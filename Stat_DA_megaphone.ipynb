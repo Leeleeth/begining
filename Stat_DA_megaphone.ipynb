{
 "cells": [
  {
   "cell_type": "markdown",
   "metadata": {},
   "source": [
    "# Исследование для компании «Мегафон». Статистический анализ.\n",
    "\n",
    "Как и любой бизнес, компания «Мегафон» хочет повысить удовлетворённость своих клиентов качеством услуг. Это важная задача для удержания пользователей — как давних, так и недавно привлечённых. <br>\n",
    "Чтобы делать это наиболее эффективно, важно определить, **какие технические показатели качества связи сильнее всего влияют на удовлетворённость клиентов, и в первую очередь направить ресурсы на работу с ними**. Для этого «Мегафон» провёл опрос своих клиентов, предложив им оценить уровень удовлетворённости качеством связи. По каждому клиенту, прошедшему опрос, были собраны технические показатели. <br>\n",
    "\n",
    "**Более подробно о проведённом опросе:**\n",
    "\n",
    "В ходе опроса компания «Мегафон» предложила своим клиентам оценить уровень удовлетворённости качеством связи по десятибалльной шкале (где 10 — это «отлично», а 1 — «ужасно»). Если клиент оценивал качество связи на 9 или 10 баллов, опрос заканчивался. Если клиент ставил оценку ниже 9, задавался второй вопрос — о причинах неудовлетворённости качеством связи с предоставленными пронумерованными вариантами ответа."
   ]
  },
  {
   "cell_type": "markdown",
   "metadata": {
    "id": "-nmYQ_yO1Nou"
   },
   "source": [
    "![](https://sun9-32.userapi.com/C6vN5pHQW7hlseIt0AtTN7qNDQbDnHXdt1P2NA/ILntXqa-RrA.jpg)"
   ]
  },
  {
   "cell_type": "markdown",
   "metadata": {},
   "source": [
    "## Загрузка данных и необходимых библиотек"
   ]
  },
  {
   "cell_type": "code",
   "execution_count": 1,
   "metadata": {},
   "outputs": [
    {
     "data": {
      "text/html": [
       "        <script type=\"text/javascript\">\n",
       "        window.PlotlyConfig = {MathJaxConfig: 'local'};\n",
       "        if (window.MathJax) {MathJax.Hub.Config({SVG: {font: \"STIX-Web\"}});}\n",
       "        if (typeof require !== 'undefined') {\n",
       "        require.undef(\"plotly\");\n",
       "        requirejs.config({\n",
       "            paths: {\n",
       "                'plotly': ['https://cdn.plot.ly/plotly-2.6.3.min']\n",
       "            }\n",
       "        });\n",
       "        require(['plotly'], function(Plotly) {\n",
       "            window._Plotly = Plotly;\n",
       "        });\n",
       "        }\n",
       "        </script>\n",
       "        "
      ]
     },
     "metadata": {},
     "output_type": "display_data"
    }
   ],
   "source": [
    "import numpy as np\n",
    "import pandas as pd\n",
    "import math\n",
    "import re\n",
    "\n",
    "from scipy import stats\n",
    "from statsmodels.distributions.empirical_distribution import ECDF\n",
    "\n",
    "import matplotlib.pyplot as plt\n",
    "import matplotlib.patches as mpatches\n",
    "\n",
    "import seaborn as sns\n",
    "\n",
    "import plotly.express as px\n",
    "import plotly.graph_objects as go\n",
    "import plotly\n",
    "plotly.offline.init_notebook_mode(connected=True)"
   ]
  },
  {
   "cell_type": "code",
   "execution_count": 2,
   "metadata": {
    "scrolled": true
   },
   "outputs": [
    {
     "data": {
      "text/html": [
       "<div>\n",
       "<style scoped>\n",
       "    .dataframe tbody tr th:only-of-type {\n",
       "        vertical-align: middle;\n",
       "    }\n",
       "\n",
       "    .dataframe tbody tr th {\n",
       "        vertical-align: top;\n",
       "    }\n",
       "\n",
       "    .dataframe thead th {\n",
       "        text-align: right;\n",
       "    }\n",
       "</style>\n",
       "<table border=\"1\" class=\"dataframe\">\n",
       "  <thead>\n",
       "    <tr style=\"text-align: right;\">\n",
       "      <th></th>\n",
       "      <th>user_id</th>\n",
       "      <th>Q1</th>\n",
       "      <th>Q2</th>\n",
       "      <th>Total Traffic(MB)</th>\n",
       "      <th>Downlink Throughput(Kbps)</th>\n",
       "      <th>Uplink Throughput(Kbps)</th>\n",
       "      <th>Downlink TCP Retransmission Rate(%)</th>\n",
       "      <th>Video Streaming Download Throughput(Kbps)</th>\n",
       "      <th>Video Streaming xKB Start Delay(ms)</th>\n",
       "      <th>Web Page Download Throughput(Kbps)</th>\n",
       "      <th>Web Average TCP RTT(ms)</th>\n",
       "    </tr>\n",
       "  </thead>\n",
       "  <tbody>\n",
       "    <tr>\n",
       "      <th>0</th>\n",
       "      <td>1</td>\n",
       "      <td>5</td>\n",
       "      <td>NaN</td>\n",
       "      <td>775.48846</td>\n",
       "      <td>360.13</td>\n",
       "      <td>86.56</td>\n",
       "      <td>3.93</td>\n",
       "      <td>1859.15</td>\n",
       "      <td>2309</td>\n",
       "      <td>1007.82</td>\n",
       "      <td>83</td>\n",
       "    </tr>\n",
       "    <tr>\n",
       "      <th>1</th>\n",
       "      <td>2</td>\n",
       "      <td>5</td>\n",
       "      <td>4</td>\n",
       "      <td>861.96324</td>\n",
       "      <td>3023.54</td>\n",
       "      <td>411.18</td>\n",
       "      <td>1.27</td>\n",
       "      <td>667.47</td>\n",
       "      <td>2080</td>\n",
       "      <td>255.36</td>\n",
       "      <td>425</td>\n",
       "    </tr>\n",
       "    <tr>\n",
       "      <th>2</th>\n",
       "      <td>3</td>\n",
       "      <td>1</td>\n",
       "      <td>4</td>\n",
       "      <td>261.11860</td>\n",
       "      <td>790.96</td>\n",
       "      <td>34.20</td>\n",
       "      <td>1.79</td>\n",
       "      <td>1079.60</td>\n",
       "      <td>6367</td>\n",
       "      <td>535.85</td>\n",
       "      <td>485</td>\n",
       "    </tr>\n",
       "    <tr>\n",
       "      <th>3</th>\n",
       "      <td>4</td>\n",
       "      <td>8</td>\n",
       "      <td>3</td>\n",
       "      <td>179.18564</td>\n",
       "      <td>2590.97</td>\n",
       "      <td>325.88</td>\n",
       "      <td>0.80</td>\n",
       "      <td>7053.81</td>\n",
       "      <td>3218</td>\n",
       "      <td>1221.02</td>\n",
       "      <td>51</td>\n",
       "    </tr>\n",
       "    <tr>\n",
       "      <th>4</th>\n",
       "      <td>5</td>\n",
       "      <td>2</td>\n",
       "      <td>2, 3, 4</td>\n",
       "      <td>351.99208</td>\n",
       "      <td>731.61</td>\n",
       "      <td>223.54</td>\n",
       "      <td>1.15</td>\n",
       "      <td>4550.38</td>\n",
       "      <td>1767</td>\n",
       "      <td>2336.56</td>\n",
       "      <td>68</td>\n",
       "    </tr>\n",
       "  </tbody>\n",
       "</table>\n",
       "</div>"
      ],
      "text/plain": [
       "   user_id Q1       Q2  Total Traffic(MB)  Downlink Throughput(Kbps)  \\\n",
       "0        1  5      NaN          775.48846                     360.13   \n",
       "1        2  5        4          861.96324                    3023.54   \n",
       "2        3  1        4          261.11860                     790.96   \n",
       "3        4  8        3          179.18564                    2590.97   \n",
       "4        5  2  2, 3, 4          351.99208                     731.61   \n",
       "\n",
       "   Uplink Throughput(Kbps)  Downlink TCP Retransmission Rate(%)  \\\n",
       "0                    86.56                                 3.93   \n",
       "1                   411.18                                 1.27   \n",
       "2                    34.20                                 1.79   \n",
       "3                   325.88                                 0.80   \n",
       "4                   223.54                                 1.15   \n",
       "\n",
       "   Video Streaming Download Throughput(Kbps)  \\\n",
       "0                                    1859.15   \n",
       "1                                     667.47   \n",
       "2                                    1079.60   \n",
       "3                                    7053.81   \n",
       "4                                    4550.38   \n",
       "\n",
       "   Video Streaming xKB Start Delay(ms)  Web Page Download Throughput(Kbps)  \\\n",
       "0                                 2309                             1007.82   \n",
       "1                                 2080                              255.36   \n",
       "2                                 6367                              535.85   \n",
       "3                                 3218                             1221.02   \n",
       "4                                 1767                             2336.56   \n",
       "\n",
       "   Web Average TCP RTT(ms)  \n",
       "0                       83  \n",
       "1                      425  \n",
       "2                      485  \n",
       "3                       51  \n",
       "4                       68  "
      ]
     },
     "execution_count": 2,
     "metadata": {},
     "output_type": "execute_result"
    }
   ],
   "source": [
    "# Загрузка файла и просмотр содержания\n",
    "\n",
    "megafon = pd.read_csv('megafon.csv')\n",
    "megafon.head()"
   ]
  },
  {
   "cell_type": "markdown",
   "metadata": {
    "id": "3cTfAkxD1Nov"
   },
   "source": [
    "### Codebook\n",
    "\n",
    "&nbsp;&nbsp;&nbsp;&nbsp; `user_id` — идентификатор абонента;<br>\n",
    "&nbsp;&nbsp;&nbsp;&nbsp; `Q1` — ответ на первый вопрос;<br>\n",
    "&nbsp;&nbsp;&nbsp;&nbsp; `Q2` — ответ на второй вопрос;<br>\n",
    "&nbsp;&nbsp;&nbsp;&nbsp; `Total Traffic(MB)` — объем трафика передачи данных <sup>1 </sup>; <br>\n",
    "&nbsp;&nbsp;&nbsp;&nbsp; `Downlink Throughput(Kbps)` — средняя скорость «к абоненту» <sup>2 </sup>;<br>\n",
    "&nbsp;&nbsp;&nbsp;&nbsp; `Uplink Throughput(Kbps)`— средняя скорость «от абонента» <sup>3 </sup>;<br>\n",
    "&nbsp;&nbsp;&nbsp;&nbsp; `Downlink TCP Retransmission Rate(%)` — частота переотправок пакетов «к абоненту» <sup>4 </sup>;<br>\n",
    "&nbsp;&nbsp;&nbsp;&nbsp; `Video Streaming Download Throughput(Kbps)` — скорость загрузки потокового видео <sup>5 </sup>;<br>\n",
    "&nbsp;&nbsp;&nbsp;&nbsp; `Video Streaming xKB Start Delay(ms)` — задержка старта воспроизведения видео <sup>6 </sup>;<br>\n",
    "&nbsp;&nbsp;&nbsp;&nbsp; `Web Page Download Throughput(Kbps)` — скорость загрузки web-страниц через браузер <sup>7 </sup>;<br>\n",
    "&nbsp;&nbsp;&nbsp;&nbsp; `Web Average TCP RTT(ms)` — пинг при просмотре web-страниц<sup>8 </sup>.<br>\n",
    "\n",
    "\n",
    "<sup>1 </sup> — Насколько активно абонент использует мобильный интернет.<br>\n",
    "<sup>2 </sup> — Считается по всему трафику передачи данных.<br>\n",
    "<sup>3 </sup> — Считается по всему трафику передачи данных.<br>\n",
    "<sup>4 </sup> — Чем выше, тем хуже. Если в канале возникает ошибка, пакет переотправляется. Снижается полезная скорость.<br>\n",
    "<sup>5 </sup> — Чем выше, тем лучше — меньше прерываний и лучше качество картинки.<br>\n",
    "<sup>6 </sup> — Сколько времени пройдёт между нажатием на кнопку Play и началом воспроизведения видео. Чем меньше это время, тем быстрее начинается воспроизведение.<br>\n",
    "<sup>7 </sup> — Чем выше, тем лучше.<br>\n",
    "<sup>8 </sup> — Чем меньше, тем лучше — быстрее загружаются web-страницы.<br>\n",
    "\n",
    "Первый технический показатель представлен как сумма за период в одну неделю перед участием в опросе. Остальные технические показатели отображают среднее значение по данному признаку за период в одну неделю перед участием в опросе."
   ]
  },
  {
   "cell_type": "code",
   "execution_count": 89,
   "metadata": {},
   "outputs": [
    {
     "name": "stdout",
     "output_type": "stream",
     "text": [
      "<class 'pandas.core.frame.DataFrame'>\n",
      "RangeIndex: 3112 entries, 0 to 3111\n",
      "Data columns (total 11 columns):\n",
      " #   Column                                     Non-Null Count  Dtype  \n",
      "---  ------                                     --------------  -----  \n",
      " 0   user_id                                    3112 non-null   int64  \n",
      " 1   Q1                                         3110 non-null   object \n",
      " 2   Q2                                         1315 non-null   object \n",
      " 3   Total Traffic(MB)                          3112 non-null   float64\n",
      " 4   Downlink Throughput(Kbps)                  3112 non-null   float64\n",
      " 5   Uplink Throughput(Kbps)                    3112 non-null   float64\n",
      " 6   Downlink TCP Retransmission Rate(%)        3112 non-null   float64\n",
      " 7   Video Streaming Download Throughput(Kbps)  3112 non-null   float64\n",
      " 8   Video Streaming xKB Start Delay(ms)        3112 non-null   int64  \n",
      " 9   Web Page Download Throughput(Kbps)         3112 non-null   float64\n",
      " 10  Web Average TCP RTT(ms)                    3112 non-null   int64  \n",
      "dtypes: float64(6), int64(3), object(2)\n",
      "memory usage: 267.6+ KB\n"
     ]
    }
   ],
   "source": [
    "# Информация о данных\n",
    "\n",
    "megafon.info()"
   ]
  },
  {
   "cell_type": "code",
   "execution_count": 396,
   "metadata": {},
   "outputs": [
    {
     "data": {
      "text/html": [
       "<div>\n",
       "<style scoped>\n",
       "    .dataframe tbody tr th:only-of-type {\n",
       "        vertical-align: middle;\n",
       "    }\n",
       "\n",
       "    .dataframe tbody tr th {\n",
       "        vertical-align: top;\n",
       "    }\n",
       "\n",
       "    .dataframe thead th {\n",
       "        text-align: right;\n",
       "    }\n",
       "</style>\n",
       "<table border=\"1\" class=\"dataframe\">\n",
       "  <thead>\n",
       "    <tr style=\"text-align: right;\">\n",
       "      <th></th>\n",
       "      <th>user_id</th>\n",
       "      <th>Q1</th>\n",
       "      <th>Total Traffic(MB)</th>\n",
       "      <th>Downlink Throughput(Kbps)</th>\n",
       "      <th>Uplink Throughput(Kbps)</th>\n",
       "      <th>Downlink TCP Retransmission Rate(%)</th>\n",
       "      <th>Video Streaming Download Throughput(Kbps)</th>\n",
       "      <th>Video Streaming xKB Start Delay(ms)</th>\n",
       "      <th>Web Page Download Throughput(Kbps)</th>\n",
       "      <th>Web Average TCP RTT(ms)</th>\n",
       "    </tr>\n",
       "  </thead>\n",
       "  <tbody>\n",
       "    <tr>\n",
       "      <th>count</th>\n",
       "      <td>3112.000000</td>\n",
       "      <td>3108.000000</td>\n",
       "      <td>3112.000000</td>\n",
       "      <td>3112.000000</td>\n",
       "      <td>3112.000000</td>\n",
       "      <td>3112.000000</td>\n",
       "      <td>3112.000000</td>\n",
       "      <td>3112.000000</td>\n",
       "      <td>3112.000000</td>\n",
       "      <td>3112.000000</td>\n",
       "    </tr>\n",
       "    <tr>\n",
       "      <th>mean</th>\n",
       "      <td>1556.500000</td>\n",
       "      <td>5.955598</td>\n",
       "      <td>406.282339</td>\n",
       "      <td>2220.774023</td>\n",
       "      <td>170.702381</td>\n",
       "      <td>1.834518</td>\n",
       "      <td>5728.806848</td>\n",
       "      <td>2107.596080</td>\n",
       "      <td>2100.258901</td>\n",
       "      <td>194.195051</td>\n",
       "    </tr>\n",
       "    <tr>\n",
       "      <th>std</th>\n",
       "      <td>898.501345</td>\n",
       "      <td>3.501155</td>\n",
       "      <td>220.593815</td>\n",
       "      <td>2629.824405</td>\n",
       "      <td>204.031286</td>\n",
       "      <td>2.074593</td>\n",
       "      <td>5161.475235</td>\n",
       "      <td>1582.423057</td>\n",
       "      <td>2062.509549</td>\n",
       "      <td>267.387914</td>\n",
       "    </tr>\n",
       "    <tr>\n",
       "      <th>min</th>\n",
       "      <td>1.000000</td>\n",
       "      <td>0.000000</td>\n",
       "      <td>100.026680</td>\n",
       "      <td>13.260000</td>\n",
       "      <td>6.110000</td>\n",
       "      <td>0.050000</td>\n",
       "      <td>0.000000</td>\n",
       "      <td>239.000000</td>\n",
       "      <td>0.000000</td>\n",
       "      <td>0.000000</td>\n",
       "    </tr>\n",
       "    <tr>\n",
       "      <th>25%</th>\n",
       "      <td>778.750000</td>\n",
       "      <td>3.000000</td>\n",
       "      <td>214.261193</td>\n",
       "      <td>652.297500</td>\n",
       "      <td>70.735000</td>\n",
       "      <td>0.720000</td>\n",
       "      <td>2324.550000</td>\n",
       "      <td>1280.000000</td>\n",
       "      <td>1018.002500</td>\n",
       "      <td>74.000000</td>\n",
       "    </tr>\n",
       "    <tr>\n",
       "      <th>50%</th>\n",
       "      <td>1556.500000</td>\n",
       "      <td>7.000000</td>\n",
       "      <td>363.999720</td>\n",
       "      <td>1404.230000</td>\n",
       "      <td>119.435000</td>\n",
       "      <td>1.300000</td>\n",
       "      <td>4436.500000</td>\n",
       "      <td>1672.000000</td>\n",
       "      <td>1670.695000</td>\n",
       "      <td>118.000000</td>\n",
       "    </tr>\n",
       "    <tr>\n",
       "      <th>75%</th>\n",
       "      <td>2334.250000</td>\n",
       "      <td>10.000000</td>\n",
       "      <td>572.524325</td>\n",
       "      <td>2823.645000</td>\n",
       "      <td>210.617500</td>\n",
       "      <td>2.240000</td>\n",
       "      <td>7611.440000</td>\n",
       "      <td>2312.000000</td>\n",
       "      <td>2519.987500</td>\n",
       "      <td>207.000000</td>\n",
       "    </tr>\n",
       "    <tr>\n",
       "      <th>max</th>\n",
       "      <td>3112.000000</td>\n",
       "      <td>10.000000</td>\n",
       "      <td>887.078270</td>\n",
       "      <td>39817.640000</td>\n",
       "      <td>4141.850000</td>\n",
       "      <td>31.200000</td>\n",
       "      <td>58566.030000</td>\n",
       "      <td>21392.000000</td>\n",
       "      <td>35603.970000</td>\n",
       "      <td>3471.000000</td>\n",
       "    </tr>\n",
       "  </tbody>\n",
       "</table>\n",
       "</div>"
      ],
      "text/plain": [
       "           user_id           Q1  Total Traffic(MB)  Downlink Throughput(Kbps)  \\\n",
       "count  3112.000000  3108.000000        3112.000000                3112.000000   \n",
       "mean   1556.500000     5.955598         406.282339                2220.774023   \n",
       "std     898.501345     3.501155         220.593815                2629.824405   \n",
       "min       1.000000     0.000000         100.026680                  13.260000   \n",
       "25%     778.750000     3.000000         214.261193                 652.297500   \n",
       "50%    1556.500000     7.000000         363.999720                1404.230000   \n",
       "75%    2334.250000    10.000000         572.524325                2823.645000   \n",
       "max    3112.000000    10.000000         887.078270               39817.640000   \n",
       "\n",
       "       Uplink Throughput(Kbps)  Downlink TCP Retransmission Rate(%)  \\\n",
       "count              3112.000000                          3112.000000   \n",
       "mean                170.702381                             1.834518   \n",
       "std                 204.031286                             2.074593   \n",
       "min                   6.110000                             0.050000   \n",
       "25%                  70.735000                             0.720000   \n",
       "50%                 119.435000                             1.300000   \n",
       "75%                 210.617500                             2.240000   \n",
       "max                4141.850000                            31.200000   \n",
       "\n",
       "       Video Streaming Download Throughput(Kbps)  \\\n",
       "count                                3112.000000   \n",
       "mean                                 5728.806848   \n",
       "std                                  5161.475235   \n",
       "min                                     0.000000   \n",
       "25%                                  2324.550000   \n",
       "50%                                  4436.500000   \n",
       "75%                                  7611.440000   \n",
       "max                                 58566.030000   \n",
       "\n",
       "       Video Streaming xKB Start Delay(ms)  \\\n",
       "count                          3112.000000   \n",
       "mean                           2107.596080   \n",
       "std                            1582.423057   \n",
       "min                             239.000000   \n",
       "25%                            1280.000000   \n",
       "50%                            1672.000000   \n",
       "75%                            2312.000000   \n",
       "max                           21392.000000   \n",
       "\n",
       "       Web Page Download Throughput(Kbps)  Web Average TCP RTT(ms)  \n",
       "count                         3112.000000              3112.000000  \n",
       "mean                          2100.258901               194.195051  \n",
       "std                           2062.509549               267.387914  \n",
       "min                              0.000000                 0.000000  \n",
       "25%                           1018.002500                74.000000  \n",
       "50%                           1670.695000               118.000000  \n",
       "75%                           2519.987500               207.000000  \n",
       "max                          35603.970000              3471.000000  "
      ]
     },
     "execution_count": 396,
     "metadata": {},
     "output_type": "execute_result"
    }
   ],
   "source": [
    "# Статистики по числовым столбцам \n",
    "megafon.describe(include=[np.number])"
   ]
  },
  {
   "cell_type": "code",
   "execution_count": 397,
   "metadata": {},
   "outputs": [
    {
     "data": {
      "text/html": [
       "<div>\n",
       "<style scoped>\n",
       "    .dataframe tbody tr th:only-of-type {\n",
       "        vertical-align: middle;\n",
       "    }\n",
       "\n",
       "    .dataframe tbody tr th {\n",
       "        vertical-align: top;\n",
       "    }\n",
       "\n",
       "    .dataframe thead th {\n",
       "        text-align: right;\n",
       "    }\n",
       "</style>\n",
       "<table border=\"1\" class=\"dataframe\">\n",
       "  <thead>\n",
       "    <tr style=\"text-align: right;\">\n",
       "      <th></th>\n",
       "      <th>Q2</th>\n",
       "    </tr>\n",
       "  </thead>\n",
       "  <tbody>\n",
       "    <tr>\n",
       "      <th>count</th>\n",
       "      <td>3112</td>\n",
       "    </tr>\n",
       "    <tr>\n",
       "      <th>unique</th>\n",
       "      <td>47</td>\n",
       "    </tr>\n",
       "    <tr>\n",
       "      <th>top</th>\n",
       "      <td>[0]</td>\n",
       "    </tr>\n",
       "    <tr>\n",
       "      <th>freq</th>\n",
       "      <td>1801</td>\n",
       "    </tr>\n",
       "  </tbody>\n",
       "</table>\n",
       "</div>"
      ],
      "text/plain": [
       "          Q2\n",
       "count   3112\n",
       "unique    47\n",
       "top      [0]\n",
       "freq    1801"
      ]
     },
     "execution_count": 397,
     "metadata": {},
     "output_type": "execute_result"
    }
   ],
   "source": [
    "# Статистики по Q2\n",
    "megafon.describe(include=[np.object])"
   ]
  },
  {
   "cell_type": "code",
   "execution_count": 405,
   "metadata": {},
   "outputs": [
    {
     "data": {
      "text/plain": [
       "0"
      ]
     },
     "execution_count": 405,
     "metadata": {},
     "output_type": "execute_result"
    }
   ],
   "source": [
    "# Проверка на дубликаты абонентов\n",
    "\n",
    "megafon.duplicated(subset=['user_id']).sum()"
   ]
  },
  {
   "cell_type": "markdown",
   "metadata": {},
   "source": [
    "Итак, предоставленные данные включают в себя:\n",
    "\n",
    " - информацию о **3112** абонентах, \n",
    " - значения по **8** техническим характеристикам связи для каждого из них, \n",
    " - ответы на вопросы Q1 и Q2. \n",
    " \n",
    "Как видно, оценки абонентов требуют более внимательного изучения и очистки, а показатели связи - проверки на выбросы."
   ]
  },
  {
   "cell_type": "markdown",
   "metadata": {},
   "source": [
    "## ЧАСТЬ 1. Исследование зависимости между оценкой абонента Q1 и техническими показателями связи"
   ]
  },
  {
   "cell_type": "markdown",
   "metadata": {},
   "source": [
    "### 1.1 Подготовка данных и постановка задачи\n",
    "\n",
    "Изучение данных по столбцу Q1:"
   ]
  },
  {
   "cell_type": "code",
   "execution_count": 3,
   "metadata": {},
   "outputs": [
    {
     "data": {
      "text/plain": [
       "Q1\n",
       "***** ** ***                                                              1\n",
       "3, 9                                                                      1\n",
       "Я в Смол. Области живу сейчас, не пользуюсь телефоном совсем              1\n",
       "5, 7                                                                      1\n",
       "?                                                                         1\n",
       "Hi                                                                        1\n",
       "Без з                                                                     1\n",
       "Когда в Москве-10 а когда в калужской области в деревне Бели-1            1\n",
       "3, 7                                                                      1\n",
       "Немагу дать атценку денги незашто снимаеть скоро выклучаю                 1\n",
       "Отвратительно                                                             1\n",
       "Очень  хорошо. Обслуживания  я довольно. Спасибо вам.555                  1\n",
       "Пока не понял                                                             1\n",
       "Поохое                                                                    1\n",
       "Ужасно                                                                    1\n",
       "Чдтчдтччдтччч                                                             1\n",
       "Чем даль ше,тем лучше.Спасибо за ваш труд.Оценка 10 !                     1\n",
       "ОЦЕНКА-3/НЕВАЖНО/                                                         1\n",
       "3 тройка, связь отвратительная, жалко платить за такой тарив              1\n",
       "4. Тульская область Заокский район. Романовские дачи связи почти нет      1\n",
       "11                                                                        1\n",
       "0, 1, 5                                                                   1\n",
       "1, 6                                                                      1\n",
       "1, 8                                                                      1\n",
       "10, 5                                                                     1\n",
       "10, 50                                                                    1\n",
       "10, 9                                                                     1\n",
       "3 - дер.Ширяево Волоколамского района, 9 - в Москве                       1\n",
       "15                                                                        1\n",
       "19                                                                        1\n",
       "Я ценой услуг не удовлетворен                                             1\n",
       "2, 5                                                                      1\n",
       "20, 89031081392                                                           1\n",
       "2, 9                                                                      1\n",
       "Да                                                                        2\n",
       "5, 6                                                                      2\n",
       "Нет                                                                       2\n",
       "1, 3                                                                      2\n",
       "0                                                                        10\n",
       "6                                                                       101\n",
       "4                                                                       123\n",
       "2                                                                       168\n",
       "7                                                                       200\n",
       "5                                                                       234\n",
       "9                                                                       238\n",
       "8                                                                       291\n",
       "3                                                                       325\n",
       "1                                                                       532\n",
       "10                                                                      846\n",
       "Name: Q1, dtype: int64"
      ]
     },
     "execution_count": 3,
     "metadata": {},
     "output_type": "execute_result"
    }
   ],
   "source": [
    "# Содержание Q1\n",
    "megafon.groupby('Q1')['Q1'].count().sort_values()"
   ]
  },
  {
   "cell_type": "markdown",
   "metadata": {},
   "source": [
    "Для извлечения достоверных данных отсортируем оценки, соответствующие условиям:\n",
    " - первая цифра является числом от 1 до 9 включительно,\n",
    " - и как целое число не превышает 10."
   ]
  },
  {
   "cell_type": "code",
   "execution_count": 3,
   "metadata": {},
   "outputs": [
    {
     "name": "stdout",
     "output_type": "stream",
     "text": [
      "<class 'pandas.core.frame.DataFrame'>\n",
      "Int64Index: 3075 entries, 0 to 3111\n",
      "Data columns (total 10 columns):\n",
      " #   Column                                     Non-Null Count  Dtype  \n",
      "---  ------                                     --------------  -----  \n",
      " 0   user_id                                    3075 non-null   int64  \n",
      " 1   Q1                                         3075 non-null   float64\n",
      " 2   Total Traffic(MB)                          3075 non-null   float64\n",
      " 3   Downlink Throughput(Kbps)                  3075 non-null   float64\n",
      " 4   Uplink Throughput(Kbps)                    3075 non-null   float64\n",
      " 5   Downlink TCP Retransmission Rate(%)        3075 non-null   float64\n",
      " 6   Video Streaming Download Throughput(Kbps)  3075 non-null   float64\n",
      " 7   Video Streaming xKB Start Delay(ms)        3075 non-null   int64  \n",
      " 8   Web Page Download Throughput(Kbps)         3075 non-null   float64\n",
      " 9   Web Average TCP RTT(ms)                    3075 non-null   int64  \n",
      "dtypes: float64(7), int64(3)\n",
      "memory usage: 264.3 KB\n"
     ]
    }
   ],
   "source": [
    "# отсортировка данных Q1\n",
    "\n",
    "megafon['Q1']= megafon.Q1.astype(str)\n",
    "megafon['Q1'] = [re.findall(r'\\d+', x) if re.match(r'[1-9]{1}', x) else [0] for x in megafon['Q1']]\n",
    "megafon['Q1'] = megafon.Q1.apply(lambda x: int(x[0]) if int(x[0])<=10 else np.nan)\n",
    "\n",
    "# Формирование датасета для анализа\n",
    "\n",
    "df_1 = megafon[megafon['Q1'] != 0].drop(columns=['Q2']).dropna()\n",
    "df_1.info()"
   ]
  },
  {
   "cell_type": "markdown",
   "metadata": {},
   "source": [
    "После отсортировки удаляем нулевые значения, и формируем датасет для дальнейшего анализа по **3075** абонентам. Посмотрим на процентное соотношение количества оценок:"
   ]
  },
  {
   "cell_type": "code",
   "execution_count": 4,
   "metadata": {},
   "outputs": [
    {
     "data": {
      "application/vnd.plotly.v1+json": {
       "config": {
        "plotlyServerURL": "https://plot.ly"
       },
       "data": [
        {
         "hole": 0.3,
         "labels": [
          "1.0 Score",
          "2.0 Score",
          "3.0 Score",
          "4.0 Score",
          "5.0 Score",
          "6.0 Score",
          "7.0 Score",
          "8.0 Score",
          "9.0 Score",
          "10.0 Score"
         ],
         "marker": {
          "colors": [
           "Indigo",
           "Indigo",
           "DarkSlateBlue",
           "DarkCyan",
           "LightSeaGreen",
           "LightSeaGreen",
           "SeaGreen",
           "MediumSeaGreen",
           "YellowGreen",
           "Gold"
          ]
         },
         "opacity": 0.75,
         "pull": [
          0,
          0,
          0,
          0,
          0,
          0,
          0,
          0,
          0.2,
          0.2
         ],
         "textposition": "inside",
         "texttemplate": "%{label}  <br> %{percent}",
         "type": "pie",
         "values": [
          536,
          170,
          329,
          124,
          237,
          101,
          200,
          291,
          238,
          849
         ]
        }
       ],
       "layout": {
        "annotations": [
         {
          "font": {
           "color": "mediumvioletred",
           "size": 18
          },
          "showarrow": false,
          "text": "3075",
          "x": 0.5,
          "y": 0.5
         }
        ],
        "template": {
         "data": {
          "bar": [
           {
            "error_x": {
             "color": "#2a3f5f"
            },
            "error_y": {
             "color": "#2a3f5f"
            },
            "marker": {
             "line": {
              "color": "#E5ECF6",
              "width": 0.5
             },
             "pattern": {
              "fillmode": "overlay",
              "size": 10,
              "solidity": 0.2
             }
            },
            "type": "bar"
           }
          ],
          "barpolar": [
           {
            "marker": {
             "line": {
              "color": "#E5ECF6",
              "width": 0.5
             },
             "pattern": {
              "fillmode": "overlay",
              "size": 10,
              "solidity": 0.2
             }
            },
            "type": "barpolar"
           }
          ],
          "carpet": [
           {
            "aaxis": {
             "endlinecolor": "#2a3f5f",
             "gridcolor": "white",
             "linecolor": "white",
             "minorgridcolor": "white",
             "startlinecolor": "#2a3f5f"
            },
            "baxis": {
             "endlinecolor": "#2a3f5f",
             "gridcolor": "white",
             "linecolor": "white",
             "minorgridcolor": "white",
             "startlinecolor": "#2a3f5f"
            },
            "type": "carpet"
           }
          ],
          "choropleth": [
           {
            "colorbar": {
             "outlinewidth": 0,
             "ticks": ""
            },
            "type": "choropleth"
           }
          ],
          "contour": [
           {
            "colorbar": {
             "outlinewidth": 0,
             "ticks": ""
            },
            "colorscale": [
             [
              0,
              "#0d0887"
             ],
             [
              0.1111111111111111,
              "#46039f"
             ],
             [
              0.2222222222222222,
              "#7201a8"
             ],
             [
              0.3333333333333333,
              "#9c179e"
             ],
             [
              0.4444444444444444,
              "#bd3786"
             ],
             [
              0.5555555555555556,
              "#d8576b"
             ],
             [
              0.6666666666666666,
              "#ed7953"
             ],
             [
              0.7777777777777778,
              "#fb9f3a"
             ],
             [
              0.8888888888888888,
              "#fdca26"
             ],
             [
              1,
              "#f0f921"
             ]
            ],
            "type": "contour"
           }
          ],
          "contourcarpet": [
           {
            "colorbar": {
             "outlinewidth": 0,
             "ticks": ""
            },
            "type": "contourcarpet"
           }
          ],
          "heatmap": [
           {
            "colorbar": {
             "outlinewidth": 0,
             "ticks": ""
            },
            "colorscale": [
             [
              0,
              "#0d0887"
             ],
             [
              0.1111111111111111,
              "#46039f"
             ],
             [
              0.2222222222222222,
              "#7201a8"
             ],
             [
              0.3333333333333333,
              "#9c179e"
             ],
             [
              0.4444444444444444,
              "#bd3786"
             ],
             [
              0.5555555555555556,
              "#d8576b"
             ],
             [
              0.6666666666666666,
              "#ed7953"
             ],
             [
              0.7777777777777778,
              "#fb9f3a"
             ],
             [
              0.8888888888888888,
              "#fdca26"
             ],
             [
              1,
              "#f0f921"
             ]
            ],
            "type": "heatmap"
           }
          ],
          "heatmapgl": [
           {
            "colorbar": {
             "outlinewidth": 0,
             "ticks": ""
            },
            "colorscale": [
             [
              0,
              "#0d0887"
             ],
             [
              0.1111111111111111,
              "#46039f"
             ],
             [
              0.2222222222222222,
              "#7201a8"
             ],
             [
              0.3333333333333333,
              "#9c179e"
             ],
             [
              0.4444444444444444,
              "#bd3786"
             ],
             [
              0.5555555555555556,
              "#d8576b"
             ],
             [
              0.6666666666666666,
              "#ed7953"
             ],
             [
              0.7777777777777778,
              "#fb9f3a"
             ],
             [
              0.8888888888888888,
              "#fdca26"
             ],
             [
              1,
              "#f0f921"
             ]
            ],
            "type": "heatmapgl"
           }
          ],
          "histogram": [
           {
            "marker": {
             "pattern": {
              "fillmode": "overlay",
              "size": 10,
              "solidity": 0.2
             }
            },
            "type": "histogram"
           }
          ],
          "histogram2d": [
           {
            "colorbar": {
             "outlinewidth": 0,
             "ticks": ""
            },
            "colorscale": [
             [
              0,
              "#0d0887"
             ],
             [
              0.1111111111111111,
              "#46039f"
             ],
             [
              0.2222222222222222,
              "#7201a8"
             ],
             [
              0.3333333333333333,
              "#9c179e"
             ],
             [
              0.4444444444444444,
              "#bd3786"
             ],
             [
              0.5555555555555556,
              "#d8576b"
             ],
             [
              0.6666666666666666,
              "#ed7953"
             ],
             [
              0.7777777777777778,
              "#fb9f3a"
             ],
             [
              0.8888888888888888,
              "#fdca26"
             ],
             [
              1,
              "#f0f921"
             ]
            ],
            "type": "histogram2d"
           }
          ],
          "histogram2dcontour": [
           {
            "colorbar": {
             "outlinewidth": 0,
             "ticks": ""
            },
            "colorscale": [
             [
              0,
              "#0d0887"
             ],
             [
              0.1111111111111111,
              "#46039f"
             ],
             [
              0.2222222222222222,
              "#7201a8"
             ],
             [
              0.3333333333333333,
              "#9c179e"
             ],
             [
              0.4444444444444444,
              "#bd3786"
             ],
             [
              0.5555555555555556,
              "#d8576b"
             ],
             [
              0.6666666666666666,
              "#ed7953"
             ],
             [
              0.7777777777777778,
              "#fb9f3a"
             ],
             [
              0.8888888888888888,
              "#fdca26"
             ],
             [
              1,
              "#f0f921"
             ]
            ],
            "type": "histogram2dcontour"
           }
          ],
          "mesh3d": [
           {
            "colorbar": {
             "outlinewidth": 0,
             "ticks": ""
            },
            "type": "mesh3d"
           }
          ],
          "parcoords": [
           {
            "line": {
             "colorbar": {
              "outlinewidth": 0,
              "ticks": ""
             }
            },
            "type": "parcoords"
           }
          ],
          "pie": [
           {
            "automargin": true,
            "type": "pie"
           }
          ],
          "scatter": [
           {
            "marker": {
             "colorbar": {
              "outlinewidth": 0,
              "ticks": ""
             }
            },
            "type": "scatter"
           }
          ],
          "scatter3d": [
           {
            "line": {
             "colorbar": {
              "outlinewidth": 0,
              "ticks": ""
             }
            },
            "marker": {
             "colorbar": {
              "outlinewidth": 0,
              "ticks": ""
             }
            },
            "type": "scatter3d"
           }
          ],
          "scattercarpet": [
           {
            "marker": {
             "colorbar": {
              "outlinewidth": 0,
              "ticks": ""
             }
            },
            "type": "scattercarpet"
           }
          ],
          "scattergeo": [
           {
            "marker": {
             "colorbar": {
              "outlinewidth": 0,
              "ticks": ""
             }
            },
            "type": "scattergeo"
           }
          ],
          "scattergl": [
           {
            "marker": {
             "colorbar": {
              "outlinewidth": 0,
              "ticks": ""
             }
            },
            "type": "scattergl"
           }
          ],
          "scattermapbox": [
           {
            "marker": {
             "colorbar": {
              "outlinewidth": 0,
              "ticks": ""
             }
            },
            "type": "scattermapbox"
           }
          ],
          "scatterpolar": [
           {
            "marker": {
             "colorbar": {
              "outlinewidth": 0,
              "ticks": ""
             }
            },
            "type": "scatterpolar"
           }
          ],
          "scatterpolargl": [
           {
            "marker": {
             "colorbar": {
              "outlinewidth": 0,
              "ticks": ""
             }
            },
            "type": "scatterpolargl"
           }
          ],
          "scatterternary": [
           {
            "marker": {
             "colorbar": {
              "outlinewidth": 0,
              "ticks": ""
             }
            },
            "type": "scatterternary"
           }
          ],
          "surface": [
           {
            "colorbar": {
             "outlinewidth": 0,
             "ticks": ""
            },
            "colorscale": [
             [
              0,
              "#0d0887"
             ],
             [
              0.1111111111111111,
              "#46039f"
             ],
             [
              0.2222222222222222,
              "#7201a8"
             ],
             [
              0.3333333333333333,
              "#9c179e"
             ],
             [
              0.4444444444444444,
              "#bd3786"
             ],
             [
              0.5555555555555556,
              "#d8576b"
             ],
             [
              0.6666666666666666,
              "#ed7953"
             ],
             [
              0.7777777777777778,
              "#fb9f3a"
             ],
             [
              0.8888888888888888,
              "#fdca26"
             ],
             [
              1,
              "#f0f921"
             ]
            ],
            "type": "surface"
           }
          ],
          "table": [
           {
            "cells": {
             "fill": {
              "color": "#EBF0F8"
             },
             "line": {
              "color": "white"
             }
            },
            "header": {
             "fill": {
              "color": "#C8D4E3"
             },
             "line": {
              "color": "white"
             }
            },
            "type": "table"
           }
          ]
         },
         "layout": {
          "annotationdefaults": {
           "arrowcolor": "#2a3f5f",
           "arrowhead": 0,
           "arrowwidth": 1
          },
          "autotypenumbers": "strict",
          "coloraxis": {
           "colorbar": {
            "outlinewidth": 0,
            "ticks": ""
           }
          },
          "colorscale": {
           "diverging": [
            [
             0,
             "#8e0152"
            ],
            [
             0.1,
             "#c51b7d"
            ],
            [
             0.2,
             "#de77ae"
            ],
            [
             0.3,
             "#f1b6da"
            ],
            [
             0.4,
             "#fde0ef"
            ],
            [
             0.5,
             "#f7f7f7"
            ],
            [
             0.6,
             "#e6f5d0"
            ],
            [
             0.7,
             "#b8e186"
            ],
            [
             0.8,
             "#7fbc41"
            ],
            [
             0.9,
             "#4d9221"
            ],
            [
             1,
             "#276419"
            ]
           ],
           "sequential": [
            [
             0,
             "#0d0887"
            ],
            [
             0.1111111111111111,
             "#46039f"
            ],
            [
             0.2222222222222222,
             "#7201a8"
            ],
            [
             0.3333333333333333,
             "#9c179e"
            ],
            [
             0.4444444444444444,
             "#bd3786"
            ],
            [
             0.5555555555555556,
             "#d8576b"
            ],
            [
             0.6666666666666666,
             "#ed7953"
            ],
            [
             0.7777777777777778,
             "#fb9f3a"
            ],
            [
             0.8888888888888888,
             "#fdca26"
            ],
            [
             1,
             "#f0f921"
            ]
           ],
           "sequentialminus": [
            [
             0,
             "#0d0887"
            ],
            [
             0.1111111111111111,
             "#46039f"
            ],
            [
             0.2222222222222222,
             "#7201a8"
            ],
            [
             0.3333333333333333,
             "#9c179e"
            ],
            [
             0.4444444444444444,
             "#bd3786"
            ],
            [
             0.5555555555555556,
             "#d8576b"
            ],
            [
             0.6666666666666666,
             "#ed7953"
            ],
            [
             0.7777777777777778,
             "#fb9f3a"
            ],
            [
             0.8888888888888888,
             "#fdca26"
            ],
            [
             1,
             "#f0f921"
            ]
           ]
          },
          "colorway": [
           "#636efa",
           "#EF553B",
           "#00cc96",
           "#ab63fa",
           "#FFA15A",
           "#19d3f3",
           "#FF6692",
           "#B6E880",
           "#FF97FF",
           "#FECB52"
          ],
          "font": {
           "color": "#2a3f5f"
          },
          "geo": {
           "bgcolor": "white",
           "lakecolor": "white",
           "landcolor": "#E5ECF6",
           "showlakes": true,
           "showland": true,
           "subunitcolor": "white"
          },
          "hoverlabel": {
           "align": "left"
          },
          "hovermode": "closest",
          "mapbox": {
           "style": "light"
          },
          "paper_bgcolor": "white",
          "plot_bgcolor": "#E5ECF6",
          "polar": {
           "angularaxis": {
            "gridcolor": "white",
            "linecolor": "white",
            "ticks": ""
           },
           "bgcolor": "#E5ECF6",
           "radialaxis": {
            "gridcolor": "white",
            "linecolor": "white",
            "ticks": ""
           }
          },
          "scene": {
           "xaxis": {
            "backgroundcolor": "#E5ECF6",
            "gridcolor": "white",
            "gridwidth": 2,
            "linecolor": "white",
            "showbackground": true,
            "ticks": "",
            "zerolinecolor": "white"
           },
           "yaxis": {
            "backgroundcolor": "#E5ECF6",
            "gridcolor": "white",
            "gridwidth": 2,
            "linecolor": "white",
            "showbackground": true,
            "ticks": "",
            "zerolinecolor": "white"
           },
           "zaxis": {
            "backgroundcolor": "#E5ECF6",
            "gridcolor": "white",
            "gridwidth": 2,
            "linecolor": "white",
            "showbackground": true,
            "ticks": "",
            "zerolinecolor": "white"
           }
          },
          "shapedefaults": {
           "line": {
            "color": "#2a3f5f"
           }
          },
          "ternary": {
           "aaxis": {
            "gridcolor": "white",
            "linecolor": "white",
            "ticks": ""
           },
           "baxis": {
            "gridcolor": "white",
            "linecolor": "white",
            "ticks": ""
           },
           "bgcolor": "#E5ECF6",
           "caxis": {
            "gridcolor": "white",
            "linecolor": "white",
            "ticks": ""
           }
          },
          "title": {
           "x": 0.05
          },
          "xaxis": {
           "automargin": true,
           "gridcolor": "white",
           "linecolor": "white",
           "ticks": "",
           "title": {
            "standoff": 15
           },
           "zerolinecolor": "white",
           "zerolinewidth": 2
          },
          "yaxis": {
           "automargin": true,
           "gridcolor": "white",
           "linecolor": "white",
           "ticks": "",
           "title": {
            "standoff": 15
           },
           "zerolinecolor": "white",
           "zerolinewidth": 2
          }
         }
        },
        "title": {
         "text": "Customer review scores Q1"
        }
       }
      },
      "text/html": [
       "<div>                            <div id=\"f9bff921-e607-495c-8e35-0d4890bacc2f\" class=\"plotly-graph-div\" style=\"height:525px; width:100%;\"></div>            <script type=\"text/javascript\">                require([\"plotly\"], function(Plotly) {                    window.PLOTLYENV=window.PLOTLYENV || {};                                    if (document.getElementById(\"f9bff921-e607-495c-8e35-0d4890bacc2f\")) {                    Plotly.newPlot(                        \"f9bff921-e607-495c-8e35-0d4890bacc2f\",                        [{\"hole\":0.3,\"labels\":[\"1.0 Score\",\"2.0 Score\",\"3.0 Score\",\"4.0 Score\",\"5.0 Score\",\"6.0 Score\",\"7.0 Score\",\"8.0 Score\",\"9.0 Score\",\"10.0 Score\"],\"pull\":[0,0,0,0,0,0,0,0,0.2,0.2],\"textposition\":\"inside\",\"texttemplate\":\"%{label}  <br> %{percent}\",\"values\":[536,170,329,124,237,101,200,291,238,849],\"type\":\"pie\",\"marker\":{\"colors\":[\"Indigo\",\"Indigo\",\"DarkSlateBlue\",\"DarkCyan\",\"LightSeaGreen\",\"LightSeaGreen\",\"SeaGreen\",\"MediumSeaGreen\",\"YellowGreen\",\"Gold\"]},\"opacity\":0.75}],                        {\"template\":{\"data\":{\"bar\":[{\"error_x\":{\"color\":\"#2a3f5f\"},\"error_y\":{\"color\":\"#2a3f5f\"},\"marker\":{\"line\":{\"color\":\"#E5ECF6\",\"width\":0.5},\"pattern\":{\"fillmode\":\"overlay\",\"size\":10,\"solidity\":0.2}},\"type\":\"bar\"}],\"barpolar\":[{\"marker\":{\"line\":{\"color\":\"#E5ECF6\",\"width\":0.5},\"pattern\":{\"fillmode\":\"overlay\",\"size\":10,\"solidity\":0.2}},\"type\":\"barpolar\"}],\"carpet\":[{\"aaxis\":{\"endlinecolor\":\"#2a3f5f\",\"gridcolor\":\"white\",\"linecolor\":\"white\",\"minorgridcolor\":\"white\",\"startlinecolor\":\"#2a3f5f\"},\"baxis\":{\"endlinecolor\":\"#2a3f5f\",\"gridcolor\":\"white\",\"linecolor\":\"white\",\"minorgridcolor\":\"white\",\"startlinecolor\":\"#2a3f5f\"},\"type\":\"carpet\"}],\"choropleth\":[{\"colorbar\":{\"outlinewidth\":0,\"ticks\":\"\"},\"type\":\"choropleth\"}],\"contour\":[{\"colorbar\":{\"outlinewidth\":0,\"ticks\":\"\"},\"colorscale\":[[0.0,\"#0d0887\"],[0.1111111111111111,\"#46039f\"],[0.2222222222222222,\"#7201a8\"],[0.3333333333333333,\"#9c179e\"],[0.4444444444444444,\"#bd3786\"],[0.5555555555555556,\"#d8576b\"],[0.6666666666666666,\"#ed7953\"],[0.7777777777777778,\"#fb9f3a\"],[0.8888888888888888,\"#fdca26\"],[1.0,\"#f0f921\"]],\"type\":\"contour\"}],\"contourcarpet\":[{\"colorbar\":{\"outlinewidth\":0,\"ticks\":\"\"},\"type\":\"contourcarpet\"}],\"heatmap\":[{\"colorbar\":{\"outlinewidth\":0,\"ticks\":\"\"},\"colorscale\":[[0.0,\"#0d0887\"],[0.1111111111111111,\"#46039f\"],[0.2222222222222222,\"#7201a8\"],[0.3333333333333333,\"#9c179e\"],[0.4444444444444444,\"#bd3786\"],[0.5555555555555556,\"#d8576b\"],[0.6666666666666666,\"#ed7953\"],[0.7777777777777778,\"#fb9f3a\"],[0.8888888888888888,\"#fdca26\"],[1.0,\"#f0f921\"]],\"type\":\"heatmap\"}],\"heatmapgl\":[{\"colorbar\":{\"outlinewidth\":0,\"ticks\":\"\"},\"colorscale\":[[0.0,\"#0d0887\"],[0.1111111111111111,\"#46039f\"],[0.2222222222222222,\"#7201a8\"],[0.3333333333333333,\"#9c179e\"],[0.4444444444444444,\"#bd3786\"],[0.5555555555555556,\"#d8576b\"],[0.6666666666666666,\"#ed7953\"],[0.7777777777777778,\"#fb9f3a\"],[0.8888888888888888,\"#fdca26\"],[1.0,\"#f0f921\"]],\"type\":\"heatmapgl\"}],\"histogram\":[{\"marker\":{\"pattern\":{\"fillmode\":\"overlay\",\"size\":10,\"solidity\":0.2}},\"type\":\"histogram\"}],\"histogram2d\":[{\"colorbar\":{\"outlinewidth\":0,\"ticks\":\"\"},\"colorscale\":[[0.0,\"#0d0887\"],[0.1111111111111111,\"#46039f\"],[0.2222222222222222,\"#7201a8\"],[0.3333333333333333,\"#9c179e\"],[0.4444444444444444,\"#bd3786\"],[0.5555555555555556,\"#d8576b\"],[0.6666666666666666,\"#ed7953\"],[0.7777777777777778,\"#fb9f3a\"],[0.8888888888888888,\"#fdca26\"],[1.0,\"#f0f921\"]],\"type\":\"histogram2d\"}],\"histogram2dcontour\":[{\"colorbar\":{\"outlinewidth\":0,\"ticks\":\"\"},\"colorscale\":[[0.0,\"#0d0887\"],[0.1111111111111111,\"#46039f\"],[0.2222222222222222,\"#7201a8\"],[0.3333333333333333,\"#9c179e\"],[0.4444444444444444,\"#bd3786\"],[0.5555555555555556,\"#d8576b\"],[0.6666666666666666,\"#ed7953\"],[0.7777777777777778,\"#fb9f3a\"],[0.8888888888888888,\"#fdca26\"],[1.0,\"#f0f921\"]],\"type\":\"histogram2dcontour\"}],\"mesh3d\":[{\"colorbar\":{\"outlinewidth\":0,\"ticks\":\"\"},\"type\":\"mesh3d\"}],\"parcoords\":[{\"line\":{\"colorbar\":{\"outlinewidth\":0,\"ticks\":\"\"}},\"type\":\"parcoords\"}],\"pie\":[{\"automargin\":true,\"type\":\"pie\"}],\"scatter\":[{\"marker\":{\"colorbar\":{\"outlinewidth\":0,\"ticks\":\"\"}},\"type\":\"scatter\"}],\"scatter3d\":[{\"line\":{\"colorbar\":{\"outlinewidth\":0,\"ticks\":\"\"}},\"marker\":{\"colorbar\":{\"outlinewidth\":0,\"ticks\":\"\"}},\"type\":\"scatter3d\"}],\"scattercarpet\":[{\"marker\":{\"colorbar\":{\"outlinewidth\":0,\"ticks\":\"\"}},\"type\":\"scattercarpet\"}],\"scattergeo\":[{\"marker\":{\"colorbar\":{\"outlinewidth\":0,\"ticks\":\"\"}},\"type\":\"scattergeo\"}],\"scattergl\":[{\"marker\":{\"colorbar\":{\"outlinewidth\":0,\"ticks\":\"\"}},\"type\":\"scattergl\"}],\"scattermapbox\":[{\"marker\":{\"colorbar\":{\"outlinewidth\":0,\"ticks\":\"\"}},\"type\":\"scattermapbox\"}],\"scatterpolar\":[{\"marker\":{\"colorbar\":{\"outlinewidth\":0,\"ticks\":\"\"}},\"type\":\"scatterpolar\"}],\"scatterpolargl\":[{\"marker\":{\"colorbar\":{\"outlinewidth\":0,\"ticks\":\"\"}},\"type\":\"scatterpolargl\"}],\"scatterternary\":[{\"marker\":{\"colorbar\":{\"outlinewidth\":0,\"ticks\":\"\"}},\"type\":\"scatterternary\"}],\"surface\":[{\"colorbar\":{\"outlinewidth\":0,\"ticks\":\"\"},\"colorscale\":[[0.0,\"#0d0887\"],[0.1111111111111111,\"#46039f\"],[0.2222222222222222,\"#7201a8\"],[0.3333333333333333,\"#9c179e\"],[0.4444444444444444,\"#bd3786\"],[0.5555555555555556,\"#d8576b\"],[0.6666666666666666,\"#ed7953\"],[0.7777777777777778,\"#fb9f3a\"],[0.8888888888888888,\"#fdca26\"],[1.0,\"#f0f921\"]],\"type\":\"surface\"}],\"table\":[{\"cells\":{\"fill\":{\"color\":\"#EBF0F8\"},\"line\":{\"color\":\"white\"}},\"header\":{\"fill\":{\"color\":\"#C8D4E3\"},\"line\":{\"color\":\"white\"}},\"type\":\"table\"}]},\"layout\":{\"annotationdefaults\":{\"arrowcolor\":\"#2a3f5f\",\"arrowhead\":0,\"arrowwidth\":1},\"autotypenumbers\":\"strict\",\"coloraxis\":{\"colorbar\":{\"outlinewidth\":0,\"ticks\":\"\"}},\"colorscale\":{\"diverging\":[[0,\"#8e0152\"],[0.1,\"#c51b7d\"],[0.2,\"#de77ae\"],[0.3,\"#f1b6da\"],[0.4,\"#fde0ef\"],[0.5,\"#f7f7f7\"],[0.6,\"#e6f5d0\"],[0.7,\"#b8e186\"],[0.8,\"#7fbc41\"],[0.9,\"#4d9221\"],[1,\"#276419\"]],\"sequential\":[[0.0,\"#0d0887\"],[0.1111111111111111,\"#46039f\"],[0.2222222222222222,\"#7201a8\"],[0.3333333333333333,\"#9c179e\"],[0.4444444444444444,\"#bd3786\"],[0.5555555555555556,\"#d8576b\"],[0.6666666666666666,\"#ed7953\"],[0.7777777777777778,\"#fb9f3a\"],[0.8888888888888888,\"#fdca26\"],[1.0,\"#f0f921\"]],\"sequentialminus\":[[0.0,\"#0d0887\"],[0.1111111111111111,\"#46039f\"],[0.2222222222222222,\"#7201a8\"],[0.3333333333333333,\"#9c179e\"],[0.4444444444444444,\"#bd3786\"],[0.5555555555555556,\"#d8576b\"],[0.6666666666666666,\"#ed7953\"],[0.7777777777777778,\"#fb9f3a\"],[0.8888888888888888,\"#fdca26\"],[1.0,\"#f0f921\"]]},\"colorway\":[\"#636efa\",\"#EF553B\",\"#00cc96\",\"#ab63fa\",\"#FFA15A\",\"#19d3f3\",\"#FF6692\",\"#B6E880\",\"#FF97FF\",\"#FECB52\"],\"font\":{\"color\":\"#2a3f5f\"},\"geo\":{\"bgcolor\":\"white\",\"lakecolor\":\"white\",\"landcolor\":\"#E5ECF6\",\"showlakes\":true,\"showland\":true,\"subunitcolor\":\"white\"},\"hoverlabel\":{\"align\":\"left\"},\"hovermode\":\"closest\",\"mapbox\":{\"style\":\"light\"},\"paper_bgcolor\":\"white\",\"plot_bgcolor\":\"#E5ECF6\",\"polar\":{\"angularaxis\":{\"gridcolor\":\"white\",\"linecolor\":\"white\",\"ticks\":\"\"},\"bgcolor\":\"#E5ECF6\",\"radialaxis\":{\"gridcolor\":\"white\",\"linecolor\":\"white\",\"ticks\":\"\"}},\"scene\":{\"xaxis\":{\"backgroundcolor\":\"#E5ECF6\",\"gridcolor\":\"white\",\"gridwidth\":2,\"linecolor\":\"white\",\"showbackground\":true,\"ticks\":\"\",\"zerolinecolor\":\"white\"},\"yaxis\":{\"backgroundcolor\":\"#E5ECF6\",\"gridcolor\":\"white\",\"gridwidth\":2,\"linecolor\":\"white\",\"showbackground\":true,\"ticks\":\"\",\"zerolinecolor\":\"white\"},\"zaxis\":{\"backgroundcolor\":\"#E5ECF6\",\"gridcolor\":\"white\",\"gridwidth\":2,\"linecolor\":\"white\",\"showbackground\":true,\"ticks\":\"\",\"zerolinecolor\":\"white\"}},\"shapedefaults\":{\"line\":{\"color\":\"#2a3f5f\"}},\"ternary\":{\"aaxis\":{\"gridcolor\":\"white\",\"linecolor\":\"white\",\"ticks\":\"\"},\"baxis\":{\"gridcolor\":\"white\",\"linecolor\":\"white\",\"ticks\":\"\"},\"bgcolor\":\"#E5ECF6\",\"caxis\":{\"gridcolor\":\"white\",\"linecolor\":\"white\",\"ticks\":\"\"}},\"title\":{\"x\":0.05},\"xaxis\":{\"automargin\":true,\"gridcolor\":\"white\",\"linecolor\":\"white\",\"ticks\":\"\",\"title\":{\"standoff\":15},\"zerolinecolor\":\"white\",\"zerolinewidth\":2},\"yaxis\":{\"automargin\":true,\"gridcolor\":\"white\",\"linecolor\":\"white\",\"ticks\":\"\",\"title\":{\"standoff\":15},\"zerolinecolor\":\"white\",\"zerolinewidth\":2}}},\"title\":{\"text\":\"Customer review scores Q1\"},\"annotations\":[{\"showarrow\":false,\"text\":\"3075\",\"x\":0.5,\"y\":0.5,\"font\":{\"size\":18,\"color\":\"mediumvioletred\"}}]},                        {\"responsive\": true}                    ).then(function(){\n",
       "                            \n",
       "var gd = document.getElementById('f9bff921-e607-495c-8e35-0d4890bacc2f');\n",
       "var x = new MutationObserver(function (mutations, observer) {{\n",
       "        var display = window.getComputedStyle(gd).display;\n",
       "        if (!display || display === 'none') {{\n",
       "            console.log([gd, 'removed!']);\n",
       "            Plotly.purge(gd);\n",
       "            observer.disconnect();\n",
       "        }}\n",
       "}});\n",
       "\n",
       "// Listen for the removal of the full notebook cells\n",
       "var notebookContainer = gd.closest('#notebook-container');\n",
       "if (notebookContainer) {{\n",
       "    x.observe(notebookContainer, {childList: true});\n",
       "}}\n",
       "\n",
       "// Listen for the clearing of the current output cell\n",
       "var outputEl = gd.closest('.output');\n",
       "if (outputEl) {{\n",
       "    x.observe(outputEl, {childList: true});\n",
       "}}\n",
       "\n",
       "                        })                };                });            </script>        </div>"
      ]
     },
     "metadata": {},
     "output_type": "display_data"
    }
   ],
   "source": [
    "# Датасет для визуализации \n",
    "for_pie=df_1.groupby('Q1')['Q1'].count()\n",
    "review_score = for_pie.index.astype(str) +' Score'\n",
    "\n",
    "# Визуализация Q1\n",
    "colors = ['Indigo', 'Indigo', 'DarkSlateBlue', 'DarkCyan',\n",
    "          'LightSeaGreen','LightSeaGreen', 'SeaGreen',\n",
    "          'MediumSeaGreen', 'YellowGreen', 'Gold']\n",
    "\n",
    "donut = go.Figure(go.Pie(\n",
    "    values = for_pie,\n",
    "    labels = review_score,\n",
    "    hole=.3,\n",
    "    pull=[0, 0, 0, 0, 0, 0, 0, 0, 0.2, 0.2],\n",
    "    texttemplate = \"%{label}  <br> %{percent}\",\n",
    "    textposition = \"inside\"))\n",
    "\n",
    "donut.update_traces(opacity=0.75,\n",
    "                    marker=dict(colors=colors))\n",
    "\n",
    "donut.update_layout(title = 'Customer review scores Q1',\n",
    "                   annotations=[dict(text='3075', x=0.5, y=0.5, font_size=18, \n",
    "                                     font_color='mediumvioletred', showarrow=False)]) \n",
    "donut.show()"
   ]
  },
  {
   "cell_type": "markdown",
   "metadata": {},
   "source": [
    "Очевидно, что **35.34%** высоко оценили связь:\n",
    " - 27.6% абонентов с отзывом 10,\n",
    " - 7.74 абонентов с отзывом 9.\n",
    " \n",
    "При этом примерно столько же, **33.63%**, составляют клиенты с очень низкими оценками, от 1 до 3."
   ]
  },
  {
   "cell_type": "markdown",
   "metadata": {},
   "source": [
    "**ЗАДАЧА:** Определить - Существует ли прямая зависимость между качеством связи (значениями ее технических характеристик) и оценкой абонента Q1? Если да, то является ли зависимость значимой?"
   ]
  },
  {
   "cell_type": "markdown",
   "metadata": {},
   "source": [
    "### 1.2 Разведочный анализ (EDA)"
   ]
  },
  {
   "cell_type": "markdown",
   "metadata": {},
   "source": [
    "Прежде чем исследовать зависимость, посмотрим на данные по техническим храрктеристикам. Проверим их на наличие выбросов:"
   ]
  },
  {
   "cell_type": "code",
   "execution_count": 5,
   "metadata": {},
   "outputs": [
    {
     "data": {
      "text/plain": [
       "['Total Traffic(MB)',\n",
       " 'Downlink Throughput(Kbps)',\n",
       " 'Uplink Throughput(Kbps)',\n",
       " 'Downlink TCP Retransmission Rate(%)',\n",
       " 'Video Streaming Download Throughput(Kbps)',\n",
       " 'Video Streaming xKB Start Delay(ms)',\n",
       " 'Web Page Download Throughput(Kbps)',\n",
       " 'Web Average TCP RTT(ms)']"
      ]
     },
     "execution_count": 5,
     "metadata": {},
     "output_type": "execute_result"
    }
   ],
   "source": [
    "# Технические показатели связи\n",
    "features = df_1.columns[2:].to_list()\n",
    "features"
   ]
  },
  {
   "cell_type": "code",
   "execution_count": 93,
   "metadata": {
    "scrolled": false
   },
   "outputs": [
    {
     "data": {
      "image/png": "[encoded data removed]",
      "text/plain": [
       "<Figure size 1584x1440 with 8 Axes>"
      ]
     },
     "metadata": {
      "needs_background": "light"
     },
     "output_type": "display_data"
    }
   ],
   "source": [
    "# Визуализация выбросов\n",
    "\n",
    "dt = df_1[features]\n",
    "\n",
    "fig = plt.figure(figsize=(22,20))\n",
    "\n",
    "for column in dt:\n",
    "    n = list(dt).index(column)\n",
    "    ax = fig.add_subplot(2, 4, (n+1))\n",
    "    ax = dt.boxplot(column, meanline=True, color='black', fontsize=16,  \n",
    "                    widths=0.25, patch_artist=True,\n",
    "                    boxprops=dict(facecolor='gray', alpha=0.5, color='black'),\n",
    "                    medianprops=dict(color='red'))\n",
    "\n",
    "plt.tight_layout(h_pad=5.0)     \n",
    "plt.show()  "
   ]
  },
  {
   "cell_type": "markdown",
   "metadata": {},
   "source": [
    "Кроме объема трафика передачи данных (Total Traffic(MB)),  все остальные показатели не имеют нормального распределения и включают в себя выбросы. Поэтому для предварительного отображения зависимости оценок от характериктик используем медианные значения технических показателей."
   ]
  },
  {
   "cell_type": "code",
   "execution_count": 6,
   "metadata": {},
   "outputs": [],
   "source": [
    "# Формирование датасета  медианных значений\n",
    "\n",
    "medians = df_1.groupby('Q1').median()\n",
    "medians['ReviewCount'] = df_1.groupby('Q1')['Q1'].count()\n",
    "medians.reset_index(inplace=True)"
   ]
  },
  {
   "cell_type": "code",
   "execution_count": 7,
   "metadata": {
    "scrolled": false
   },
   "outputs": [
    {
     "data": {
      "application/vnd.plotly.v1+json": {
       "config": {
        "plotlyServerURL": "https://plot.ly"
       },
       "data": [
        {
         "marker": {
          "color": [
           1,
           2,
           3,
           4,
           5,
           6,
           7,
           8,
           9,
           10
          ],
          "colorscale": [
           [
            0,
            "#440154"
           ],
           [
            0.1111111111111111,
            "#482878"
           ],
           [
            0.2222222222222222,
            "#3e4989"
           ],
           [
            0.3333333333333333,
            "#31688e"
           ],
           [
            0.4444444444444444,
            "#26828e"
           ],
           [
            0.5555555555555556,
            "#1f9e89"
           ],
           [
            0.6666666666666666,
            "#35b779"
           ],
           [
            0.7777777777777778,
            "#6ece58"
           ],
           [
            0.8888888888888888,
            "#b5de2b"
           ],
           [
            1,
            "#fde725"
           ]
          ],
          "showscale": true,
          "size": [
           53.6,
           17,
           32.9,
           12.4,
           23.7,
           10.1,
           20,
           29.1,
           23.8,
           84.9
          ]
         },
         "mode": "markers",
         "name": "Total Traffic(MB)",
         "text": [
          1,
          2,
          3,
          4,
          5,
          6,
          7,
          8,
          9,
          10
         ],
         "type": "scatter",
         "visible": true,
         "x": [
          536,
          170,
          329,
          124,
          237,
          101,
          200,
          291,
          238,
          849
         ],
         "y": [
          360.236045,
          342.33054500000003,
          348.21476,
          481.20124,
          397.1905,
          468.40499000000005,
          364.198315,
          347.87023999999997,
          347.9135,
          358.88292
         ]
        },
        {
         "marker": {
          "color": [
           1,
           2,
           3,
           4,
           5,
           6,
           7,
           8,
           9,
           10
          ],
          "colorscale": [
           [
            0,
            "#440154"
           ],
           [
            0.1111111111111111,
            "#482878"
           ],
           [
            0.2222222222222222,
            "#3e4989"
           ],
           [
            0.3333333333333333,
            "#31688e"
           ],
           [
            0.4444444444444444,
            "#26828e"
           ],
           [
            0.5555555555555556,
            "#1f9e89"
           ],
           [
            0.6666666666666666,
            "#35b779"
           ],
           [
            0.7777777777777778,
            "#6ece58"
           ],
           [
            0.8888888888888888,
            "#b5de2b"
           ],
           [
            1,
            "#fde725"
           ]
          ],
          "showscale": true,
          "size": [
           53.6,
           17,
           32.9,
           12.4,
           23.7,
           10.1,
           20,
           29.1,
           23.8,
           84.9
          ]
         },
         "mode": "markers",
         "name": "Downlink Throughput(Kbps)",
         "text": [
          1,
          2,
          3,
          4,
          5,
          6,
          7,
          8,
          9,
          10
         ],
         "type": "scatter",
         "visible": false,
         "x": [
          536,
          170,
          329,
          124,
          237,
          101,
          200,
          291,
          238,
          849
         ],
         "y": [
          1171.215,
          1060.7350000000001,
          1140.21,
          1442.51,
          1272.06,
          1902.36,
          1410.815,
          1457.39,
          1653.08,
          1635.82
         ]
        },
        {
         "marker": {
          "color": [
           1,
           2,
           3,
           4,
           5,
           6,
           7,
           8,
           9,
           10
          ],
          "colorscale": [
           [
            0,
            "#440154"
           ],
           [
            0.1111111111111111,
            "#482878"
           ],
           [
            0.2222222222222222,
            "#3e4989"
           ],
           [
            0.3333333333333333,
            "#31688e"
           ],
           [
            0.4444444444444444,
            "#26828e"
           ],
           [
            0.5555555555555556,
            "#1f9e89"
           ],
           [
            0.6666666666666666,
            "#35b779"
           ],
           [
            0.7777777777777778,
            "#6ece58"
           ],
           [
            0.8888888888888888,
            "#b5de2b"
           ],
           [
            1,
            "#fde725"
           ]
          ],
          "showscale": true,
          "size": [
           53.6,
           17,
           32.9,
           12.4,
           23.7,
           10.1,
           20,
           29.1,
           23.8,
           84.9
          ]
         },
         "mode": "markers",
         "name": "Uplink Throughput(Kbps)",
         "text": [
          1,
          2,
          3,
          4,
          5,
          6,
          7,
          8,
          9,
          10
         ],
         "type": "scatter",
         "visible": false,
         "x": [
          536,
          170,
          329,
          124,
          237,
          101,
          200,
          291,
          238,
          849
         ],
         "y": [
          107.345,
          105.91499999999999,
          123.41,
          113.055,
          122.52,
          147.41,
          116.605,
          125.07,
          126.91,
          124.17
         ]
        },
        {
         "marker": {
          "color": [
           1,
           2,
           3,
           4,
           5,
           6,
           7,
           8,
           9,
           10
          ],
          "colorscale": [
           [
            0,
            "#440154"
           ],
           [
            0.1111111111111111,
            "#482878"
           ],
           [
            0.2222222222222222,
            "#3e4989"
           ],
           [
            0.3333333333333333,
            "#31688e"
           ],
           [
            0.4444444444444444,
            "#26828e"
           ],
           [
            0.5555555555555556,
            "#1f9e89"
           ],
           [
            0.6666666666666666,
            "#35b779"
           ],
           [
            0.7777777777777778,
            "#6ece58"
           ],
           [
            0.8888888888888888,
            "#b5de2b"
           ],
           [
            1,
            "#fde725"
           ]
          ],
          "showscale": true,
          "size": [
           53.6,
           17,
           32.9,
           12.4,
           23.7,
           10.1,
           20,
           29.1,
           23.8,
           84.9
          ]
         },
         "mode": "markers",
         "name": "Downlink TCP Retransmission Rate(%)",
         "text": [
          1,
          2,
          3,
          4,
          5,
          6,
          7,
          8,
          9,
          10
         ],
         "type": "scatter",
         "visible": false,
         "x": [
          536,
          170,
          329,
          124,
          237,
          101,
          200,
          291,
          238,
          849
         ],
         "y": [
          1.44,
          1.62,
          1.46,
          1.315,
          1.28,
          1.15,
          1.45,
          1.22,
          1.09,
          1.22
         ]
        },
        {
         "marker": {
          "color": [
           1,
           2,
           3,
           4,
           5,
           6,
           7,
           8,
           9,
           10
          ],
          "colorscale": [
           [
            0,
            "#440154"
           ],
           [
            0.1111111111111111,
            "#482878"
           ],
           [
            0.2222222222222222,
            "#3e4989"
           ],
           [
            0.3333333333333333,
            "#31688e"
           ],
           [
            0.4444444444444444,
            "#26828e"
           ],
           [
            0.5555555555555556,
            "#1f9e89"
           ],
           [
            0.6666666666666666,
            "#35b779"
           ],
           [
            0.7777777777777778,
            "#6ece58"
           ],
           [
            0.8888888888888888,
            "#b5de2b"
           ],
           [
            1,
            "#fde725"
           ]
          ],
          "showscale": true,
          "size": [
           53.6,
           17,
           32.9,
           12.4,
           23.7,
           10.1,
           20,
           29.1,
           23.8,
           84.9
          ]
         },
         "mode": "markers",
         "name": "Video Streaming Download Throughput(Kbps)",
         "text": [
          1,
          2,
          3,
          4,
          5,
          6,
          7,
          8,
          9,
          10
         ],
         "type": "scatter",
         "visible": false,
         "x": [
          536,
          170,
          329,
          124,
          237,
          101,
          200,
          291,
          238,
          849
         ],
         "y": [
          3614.13,
          4173.475,
          3482.18,
          3736.88,
          3873.41,
          5048.53,
          4420.135,
          5084.89,
          4974.8099999999995,
          4919.74
         ]
        },
        {
         "marker": {
          "color": [
           1,
           2,
           3,
           4,
           5,
           6,
           7,
           8,
           9,
           10
          ],
          "colorscale": [
           [
            0,
            "#440154"
           ],
           [
            0.1111111111111111,
            "#482878"
           ],
           [
            0.2222222222222222,
            "#3e4989"
           ],
           [
            0.3333333333333333,
            "#31688e"
           ],
           [
            0.4444444444444444,
            "#26828e"
           ],
           [
            0.5555555555555556,
            "#1f9e89"
           ],
           [
            0.6666666666666666,
            "#35b779"
           ],
           [
            0.7777777777777778,
            "#6ece58"
           ],
           [
            0.8888888888888888,
            "#b5de2b"
           ],
           [
            1,
            "#fde725"
           ]
          ],
          "showscale": true,
          "size": [
           53.6,
           17,
           32.9,
           12.4,
           23.7,
           10.1,
           20,
           29.1,
           23.8,
           84.9
          ]
         },
         "mode": "markers",
         "name": "Video Streaming xKB Start Delay(ms)",
         "text": [
          1,
          2,
          3,
          4,
          5,
          6,
          7,
          8,
          9,
          10
         ],
         "type": "scatter",
         "visible": false,
         "x": [
          536,
          170,
          329,
          124,
          237,
          101,
          200,
          291,
          238,
          849
         ],
         "y": [
          1801.5,
          1737,
          1846,
          1629.5,
          1726,
          1688,
          1623.5,
          1616,
          1531,
          1552
         ]
        },
        {
         "marker": {
          "color": [
           1,
           2,
           3,
           4,
           5,
           6,
           7,
           8,
           9,
           10
          ],
          "colorscale": [
           [
            0,
            "#440154"
           ],
           [
            0.1111111111111111,
            "#482878"
           ],
           [
            0.2222222222222222,
            "#3e4989"
           ],
           [
            0.3333333333333333,
            "#31688e"
           ],
           [
            0.4444444444444444,
            "#26828e"
           ],
           [
            0.5555555555555556,
            "#1f9e89"
           ],
           [
            0.6666666666666666,
            "#35b779"
           ],
           [
            0.7777777777777778,
            "#6ece58"
           ],
           [
            0.8888888888888888,
            "#b5de2b"
           ],
           [
            1,
            "#fde725"
           ]
          ],
          "showscale": true,
          "size": [
           53.6,
           17,
           32.9,
           12.4,
           23.7,
           10.1,
           20,
           29.1,
           23.8,
           84.9
          ]
         },
         "mode": "markers",
         "name": "Web Page Download Throughput(Kbps)",
         "text": [
          1,
          2,
          3,
          4,
          5,
          6,
          7,
          8,
          9,
          10
         ],
         "type": "scatter",
         "visible": false,
         "x": [
          536,
          170,
          329,
          124,
          237,
          101,
          200,
          291,
          238,
          849
         ],
         "y": [
          1442.72,
          1590.83,
          1508.64,
          1569.9499999999998,
          1566.27,
          1745.61,
          1765.13,
          1769.81,
          1856.23,
          1846.23
         ]
        },
        {
         "marker": {
          "color": [
           1,
           2,
           3,
           4,
           5,
           6,
           7,
           8,
           9,
           10
          ],
          "colorscale": [
           [
            0,
            "#440154"
           ],
           [
            0.1111111111111111,
            "#482878"
           ],
           [
            0.2222222222222222,
            "#3e4989"
           ],
           [
            0.3333333333333333,
            "#31688e"
           ],
           [
            0.4444444444444444,
            "#26828e"
           ],
           [
            0.5555555555555556,
            "#1f9e89"
           ],
           [
            0.6666666666666666,
            "#35b779"
           ],
           [
            0.7777777777777778,
            "#6ece58"
           ],
           [
            0.8888888888888888,
            "#b5de2b"
           ],
           [
            1,
            "#fde725"
           ]
          ],
          "showscale": true,
          "size": [
           53.6,
           17,
           32.9,
           12.4,
           23.7,
           10.1,
           20,
           29.1,
           23.8,
           84.9
          ]
         },
         "mode": "markers",
         "name": "Web Average TCP RTT(ms)",
         "text": [
          1,
          2,
          3,
          4,
          5,
          6,
          7,
          8,
          9,
          10
         ],
         "type": "scatter",
         "visible": false,
         "x": [
          536,
          170,
          329,
          124,
          237,
          101,
          200,
          291,
          238,
          849
         ],
         "y": [
          139,
          105.5,
          144,
          112,
          124,
          110,
          119.5,
          108,
          100,
          106
         ]
        }
       ],
       "layout": {
        "template": {
         "data": {
          "scatter": [
           {
            "type": "scatter"
           }
          ]
         }
        },
        "title": {
         "text": "Customer review scores"
        },
        "updatemenus": [
         {
          "buttons": [
           {
            "args": [
             {
              "visible": [
               true,
               false,
               false,
               false,
               false,
               false,
               false,
               false
              ]
             },
             {
              "title.text": "Customer review scores for median Total Traffic(MB) "
             }
            ],
            "label": "Total Traffic(MB)",
            "method": "update"
           },
           {
            "args": [
             {
              "visible": [
               false,
               true,
               false,
               false,
               false,
               false,
               false,
               false
              ]
             },
             {
              "title.text": "Customer review scores for median Downlink Throughput(Kbps) "
             }
            ],
            "label": "Downlink Throughput(Kbps)",
            "method": "update"
           },
           {
            "args": [
             {
              "visible": [
               false,
               false,
               true,
               false,
               false,
               false,
               false,
               false
              ]
             },
             {
              "title.text": "Customer review scores for median Uplink Throughput(Kbps) "
             }
            ],
            "label": "Uplink Throughput(Kbps)",
            "method": "update"
           },
           {
            "args": [
             {
              "visible": [
               false,
               false,
               false,
               true,
               false,
               false,
               false,
               false
              ]
             },
             {
              "title.text": "Customer review scores for median Downlink TCP Retransmission Rate(%) "
             }
            ],
            "label": "Downlink TCP Retransmission Rate(%)",
            "method": "update"
           },
           {
            "args": [
             {
              "visible": [
               false,
               false,
               false,
               false,
               true,
               false,
               false,
               false
              ]
             },
             {
              "title.text": "Customer review scores for median Video Streaming Download Throughput(Kbps) "
             }
            ],
            "label": "Video Streaming Download Throughput(Kbps)",
            "method": "update"
           },
           {
            "args": [
             {
              "visible": [
               false,
               false,
               false,
               false,
               false,
               true,
               false,
               false
              ]
             },
             {
              "title.text": "Customer review scores for median Video Streaming xKB Start Delay(ms) "
             }
            ],
            "label": "Video Streaming xKB Start Delay(ms)",
            "method": "update"
           },
           {
            "args": [
             {
              "visible": [
               false,
               false,
               false,
               false,
               false,
               false,
               true,
               false
              ]
             },
             {
              "title.text": "Customer review scores for median Web Page Download Throughput(Kbps) "
             }
            ],
            "label": "Web Page Download Throughput(Kbps)",
            "method": "update"
           },
           {
            "args": [
             {
              "visible": [
               false,
               false,
               false,
               false,
               false,
               false,
               false,
               true
              ]
             },
             {
              "title.text": "Customer review scores for median Web Average TCP RTT(ms) "
             }
            ],
            "label": "Web Average TCP RTT(ms)",
            "method": "update"
           }
          ],
          "type": "buttons",
          "x": -0.1,
          "xanchor": "right",
          "y": 0.9
         }
        ],
        "xaxis": {
         "dtick": 150,
         "range": [
          10,
          1000
         ],
         "title": {
          "text": "Scores Count"
         }
        }
       }
      },
      "text/html": [
       "<div>                            <div id=\"8cd10bf8-1045-42c4-9473-cec725351348\" class=\"plotly-graph-div\" style=\"height:525px; width:100%;\"></div>            <script type=\"text/javascript\">                require([\"plotly\"], function(Plotly) {                    window.PLOTLYENV=window.PLOTLYENV || {};                                    if (document.getElementById(\"8cd10bf8-1045-42c4-9473-cec725351348\")) {                    Plotly.newPlot(                        \"8cd10bf8-1045-42c4-9473-cec725351348\",                        [{\"marker\":{\"color\":[1.0,2.0,3.0,4.0,5.0,6.0,7.0,8.0,9.0,10.0],\"colorscale\":[[0.0,\"#440154\"],[0.1111111111111111,\"#482878\"],[0.2222222222222222,\"#3e4989\"],[0.3333333333333333,\"#31688e\"],[0.4444444444444444,\"#26828e\"],[0.5555555555555556,\"#1f9e89\"],[0.6666666666666666,\"#35b779\"],[0.7777777777777778,\"#6ece58\"],[0.8888888888888888,\"#b5de2b\"],[1.0,\"#fde725\"]],\"showscale\":true,\"size\":[53.6,17.0,32.9,12.4,23.7,10.1,20.0,29.1,23.8,84.9]},\"mode\":\"markers\",\"name\":\"Total Traffic(MB)\",\"text\":[1.0,2.0,3.0,4.0,5.0,6.0,7.0,8.0,9.0,10.0],\"visible\":true,\"x\":[536,170,329,124,237,101,200,291,238,849],\"y\":[360.236045,342.33054500000003,348.21476,481.20124,397.1905,468.40499000000005,364.198315,347.87023999999997,347.9135,358.88292],\"type\":\"scatter\"},{\"marker\":{\"color\":[1.0,2.0,3.0,4.0,5.0,6.0,7.0,8.0,9.0,10.0],\"colorscale\":[[0.0,\"#440154\"],[0.1111111111111111,\"#482878\"],[0.2222222222222222,\"#3e4989\"],[0.3333333333333333,\"#31688e\"],[0.4444444444444444,\"#26828e\"],[0.5555555555555556,\"#1f9e89\"],[0.6666666666666666,\"#35b779\"],[0.7777777777777778,\"#6ece58\"],[0.8888888888888888,\"#b5de2b\"],[1.0,\"#fde725\"]],\"showscale\":true,\"size\":[53.6,17.0,32.9,12.4,23.7,10.1,20.0,29.1,23.8,84.9]},\"mode\":\"markers\",\"name\":\"Downlink Throughput(Kbps)\",\"text\":[1.0,2.0,3.0,4.0,5.0,6.0,7.0,8.0,9.0,10.0],\"visible\":false,\"x\":[536,170,329,124,237,101,200,291,238,849],\"y\":[1171.215,1060.7350000000001,1140.21,1442.51,1272.06,1902.36,1410.815,1457.39,1653.08,1635.82],\"type\":\"scatter\"},{\"marker\":{\"color\":[1.0,2.0,3.0,4.0,5.0,6.0,7.0,8.0,9.0,10.0],\"colorscale\":[[0.0,\"#440154\"],[0.1111111111111111,\"#482878\"],[0.2222222222222222,\"#3e4989\"],[0.3333333333333333,\"#31688e\"],[0.4444444444444444,\"#26828e\"],[0.5555555555555556,\"#1f9e89\"],[0.6666666666666666,\"#35b779\"],[0.7777777777777778,\"#6ece58\"],[0.8888888888888888,\"#b5de2b\"],[1.0,\"#fde725\"]],\"showscale\":true,\"size\":[53.6,17.0,32.9,12.4,23.7,10.1,20.0,29.1,23.8,84.9]},\"mode\":\"markers\",\"name\":\"Uplink Throughput(Kbps)\",\"text\":[1.0,2.0,3.0,4.0,5.0,6.0,7.0,8.0,9.0,10.0],\"visible\":false,\"x\":[536,170,329,124,237,101,200,291,238,849],\"y\":[107.345,105.91499999999999,123.41,113.055,122.52,147.41,116.605,125.07,126.91,124.17],\"type\":\"scatter\"},{\"marker\":{\"color\":[1.0,2.0,3.0,4.0,5.0,6.0,7.0,8.0,9.0,10.0],\"colorscale\":[[0.0,\"#440154\"],[0.1111111111111111,\"#482878\"],[0.2222222222222222,\"#3e4989\"],[0.3333333333333333,\"#31688e\"],[0.4444444444444444,\"#26828e\"],[0.5555555555555556,\"#1f9e89\"],[0.6666666666666666,\"#35b779\"],[0.7777777777777778,\"#6ece58\"],[0.8888888888888888,\"#b5de2b\"],[1.0,\"#fde725\"]],\"showscale\":true,\"size\":[53.6,17.0,32.9,12.4,23.7,10.1,20.0,29.1,23.8,84.9]},\"mode\":\"markers\",\"name\":\"Downlink TCP Retransmission Rate(%)\",\"text\":[1.0,2.0,3.0,4.0,5.0,6.0,7.0,8.0,9.0,10.0],\"visible\":false,\"x\":[536,170,329,124,237,101,200,291,238,849],\"y\":[1.44,1.62,1.46,1.315,1.28,1.15,1.45,1.22,1.09,1.22],\"type\":\"scatter\"},{\"marker\":{\"color\":[1.0,2.0,3.0,4.0,5.0,6.0,7.0,8.0,9.0,10.0],\"colorscale\":[[0.0,\"#440154\"],[0.1111111111111111,\"#482878\"],[0.2222222222222222,\"#3e4989\"],[0.3333333333333333,\"#31688e\"],[0.4444444444444444,\"#26828e\"],[0.5555555555555556,\"#1f9e89\"],[0.6666666666666666,\"#35b779\"],[0.7777777777777778,\"#6ece58\"],[0.8888888888888888,\"#b5de2b\"],[1.0,\"#fde725\"]],\"showscale\":true,\"size\":[53.6,17.0,32.9,12.4,23.7,10.1,20.0,29.1,23.8,84.9]},\"mode\":\"markers\",\"name\":\"Video Streaming Download Throughput(Kbps)\",\"text\":[1.0,2.0,3.0,4.0,5.0,6.0,7.0,8.0,9.0,10.0],\"visible\":false,\"x\":[536,170,329,124,237,101,200,291,238,849],\"y\":[3614.13,4173.475,3482.18,3736.88,3873.41,5048.53,4420.135,5084.89,4974.8099999999995,4919.74],\"type\":\"scatter\"},{\"marker\":{\"color\":[1.0,2.0,3.0,4.0,5.0,6.0,7.0,8.0,9.0,10.0],\"colorscale\":[[0.0,\"#440154\"],[0.1111111111111111,\"#482878\"],[0.2222222222222222,\"#3e4989\"],[0.3333333333333333,\"#31688e\"],[0.4444444444444444,\"#26828e\"],[0.5555555555555556,\"#1f9e89\"],[0.6666666666666666,\"#35b779\"],[0.7777777777777778,\"#6ece58\"],[0.8888888888888888,\"#b5de2b\"],[1.0,\"#fde725\"]],\"showscale\":true,\"size\":[53.6,17.0,32.9,12.4,23.7,10.1,20.0,29.1,23.8,84.9]},\"mode\":\"markers\",\"name\":\"Video Streaming xKB Start Delay(ms)\",\"text\":[1.0,2.0,3.0,4.0,5.0,6.0,7.0,8.0,9.0,10.0],\"visible\":false,\"x\":[536,170,329,124,237,101,200,291,238,849],\"y\":[1801.5,1737.0,1846.0,1629.5,1726.0,1688.0,1623.5,1616.0,1531.0,1552.0],\"type\":\"scatter\"},{\"marker\":{\"color\":[1.0,2.0,3.0,4.0,5.0,6.0,7.0,8.0,9.0,10.0],\"colorscale\":[[0.0,\"#440154\"],[0.1111111111111111,\"#482878\"],[0.2222222222222222,\"#3e4989\"],[0.3333333333333333,\"#31688e\"],[0.4444444444444444,\"#26828e\"],[0.5555555555555556,\"#1f9e89\"],[0.6666666666666666,\"#35b779\"],[0.7777777777777778,\"#6ece58\"],[0.8888888888888888,\"#b5de2b\"],[1.0,\"#fde725\"]],\"showscale\":true,\"size\":[53.6,17.0,32.9,12.4,23.7,10.1,20.0,29.1,23.8,84.9]},\"mode\":\"markers\",\"name\":\"Web Page Download Throughput(Kbps)\",\"text\":[1.0,2.0,3.0,4.0,5.0,6.0,7.0,8.0,9.0,10.0],\"visible\":false,\"x\":[536,170,329,124,237,101,200,291,238,849],\"y\":[1442.72,1590.83,1508.64,1569.9499999999998,1566.27,1745.61,1765.13,1769.81,1856.23,1846.23],\"type\":\"scatter\"},{\"marker\":{\"color\":[1.0,2.0,3.0,4.0,5.0,6.0,7.0,8.0,9.0,10.0],\"colorscale\":[[0.0,\"#440154\"],[0.1111111111111111,\"#482878\"],[0.2222222222222222,\"#3e4989\"],[0.3333333333333333,\"#31688e\"],[0.4444444444444444,\"#26828e\"],[0.5555555555555556,\"#1f9e89\"],[0.6666666666666666,\"#35b779\"],[0.7777777777777778,\"#6ece58\"],[0.8888888888888888,\"#b5de2b\"],[1.0,\"#fde725\"]],\"showscale\":true,\"size\":[53.6,17.0,32.9,12.4,23.7,10.1,20.0,29.1,23.8,84.9]},\"mode\":\"markers\",\"name\":\"Web Average TCP RTT(ms)\",\"text\":[1.0,2.0,3.0,4.0,5.0,6.0,7.0,8.0,9.0,10.0],\"visible\":false,\"x\":[536,170,329,124,237,101,200,291,238,849],\"y\":[139.0,105.5,144.0,112.0,124.0,110.0,119.5,108.0,100.0,106.0],\"type\":\"scatter\"}],                        {\"template\":{\"data\":{\"scatter\":[{\"type\":\"scatter\"}]}},\"updatemenus\":[{\"buttons\":[{\"args\":[{\"visible\":[true,false,false,false,false,false,false,false]},{\"title.text\":\"Customer review scores for median Total Traffic(MB) \"}],\"label\":\"Total Traffic(MB)\",\"method\":\"update\"},{\"args\":[{\"visible\":[false,true,false,false,false,false,false,false]},{\"title.text\":\"Customer review scores for median Downlink Throughput(Kbps) \"}],\"label\":\"Downlink Throughput(Kbps)\",\"method\":\"update\"},{\"args\":[{\"visible\":[false,false,true,false,false,false,false,false]},{\"title.text\":\"Customer review scores for median Uplink Throughput(Kbps) \"}],\"label\":\"Uplink Throughput(Kbps)\",\"method\":\"update\"},{\"args\":[{\"visible\":[false,false,false,true,false,false,false,false]},{\"title.text\":\"Customer review scores for median Downlink TCP Retransmission Rate(%) \"}],\"label\":\"Downlink TCP Retransmission Rate(%)\",\"method\":\"update\"},{\"args\":[{\"visible\":[false,false,false,false,true,false,false,false]},{\"title.text\":\"Customer review scores for median Video Streaming Download Throughput(Kbps) \"}],\"label\":\"Video Streaming Download Throughput(Kbps)\",\"method\":\"update\"},{\"args\":[{\"visible\":[false,false,false,false,false,true,false,false]},{\"title.text\":\"Customer review scores for median Video Streaming xKB Start Delay(ms) \"}],\"label\":\"Video Streaming xKB Start Delay(ms)\",\"method\":\"update\"},{\"args\":[{\"visible\":[false,false,false,false,false,false,true,false]},{\"title.text\":\"Customer review scores for median Web Page Download Throughput(Kbps) \"}],\"label\":\"Web Page Download Throughput(Kbps)\",\"method\":\"update\"},{\"args\":[{\"visible\":[false,false,false,false,false,false,false,true]},{\"title.text\":\"Customer review scores for median Web Average TCP RTT(ms) \"}],\"label\":\"Web Average TCP RTT(ms)\",\"method\":\"update\"}],\"type\":\"buttons\",\"x\":-0.1,\"xanchor\":\"right\",\"y\":0.9}],\"xaxis\":{\"dtick\":150,\"range\":[10,1000],\"title\":{\"text\":\"Scores Count\"}},\"title\":{\"text\":\"Customer review scores\"}},                        {\"responsive\": true}                    ).then(function(){\n",
       "                            \n",
       "var gd = document.getElementById('8cd10bf8-1045-42c4-9473-cec725351348');\n",
       "var x = new MutationObserver(function (mutations, observer) {{\n",
       "        var display = window.getComputedStyle(gd).display;\n",
       "        if (!display || display === 'none') {{\n",
       "            console.log([gd, 'removed!']);\n",
       "            Plotly.purge(gd);\n",
       "            observer.disconnect();\n",
       "        }}\n",
       "}});\n",
       "\n",
       "// Listen for the removal of the full notebook cells\n",
       "var notebookContainer = gd.closest('#notebook-container');\n",
       "if (notebookContainer) {{\n",
       "    x.observe(notebookContainer, {childList: true});\n",
       "}}\n",
       "\n",
       "// Listen for the clearing of the current output cell\n",
       "var outputEl = gd.closest('.output');\n",
       "if (outputEl) {{\n",
       "    x.observe(outputEl, {childList: true});\n",
       "}}\n",
       "\n",
       "                        })                };                });            </script>        </div>"
      ]
     },
     "metadata": {},
     "output_type": "display_data"
    }
   ],
   "source": [
    "# Визуализация зависимости медианных значений технических характеристик и отзывов\n",
    "\n",
    "data = medians[features]\n",
    "\n",
    "fig = go.Figure()\n",
    "\n",
    "for feature in data:\n",
    "    ylim = [medians[feature].min()*0.98, medians[feature].max()*1.02]\n",
    "    fig.add_trace(\n",
    "        go.Scatter(\n",
    "            x = medians['ReviewCount'],\n",
    "            y = medians[feature],\n",
    "            visible=False,\n",
    "            name = str(feature),\n",
    "            mode='markers',\n",
    "            marker=dict(\n",
    "                   color=medians['Q1'],\n",
    "                   size=medians['ReviewCount']/10,\n",
    "                   showscale=True,\n",
    "                   colorscale=\"Viridis\"),\n",
    "            text=medians['Q1']))\n",
    "start_index = 0\n",
    "fig.data[start_index].visible = True\n",
    "\n",
    "steps = []\n",
    "for i in range(len(fig.data)):\n",
    "    step = dict(\n",
    "        label=fig.data[i].name,\n",
    "        method=\"update\",\n",
    "        args = [{'visible': [t == i for t in range(len(fig.data))]},\n",
    "                {'title.text': 'Customer review scores for median {} '.format(fig.data[i].name)},],)\n",
    "    steps.append(step)\n",
    "    \n",
    "fig.update_layout(\n",
    "    updatemenus=[dict(type=\"buttons\",\n",
    "                      x=-0.1,\n",
    "                      y=0.9,\n",
    "                      xanchor=\"right\",\n",
    "                      buttons=steps)])         \n",
    "fig.update_layout({'xaxis': {'dtick': 150, 'range':  [10,1000], 'title': 'Scores Count'},\n",
    "                    'template': 'none',\n",
    "                    'title': 'Customer review scores'}) \n",
    "fig.show() \n"
   ]
  },
  {
   "cell_type": "markdown",
   "metadata": {},
   "source": [
    "### 1.3 Статистический тест"
   ]
  },
  {
   "cell_type": "markdown",
   "metadata": {},
   "source": [
    "Визуально, исследуя медианные значения на графике, можно предположить, что качественные показатели связи определяют высокие оценки. Проверим - есть ли зависимость, предварительно выбрав оценочный параметр и сформулировав гипотезу.\n",
    "\n",
    "**ОЦЕНОЧНЫЙ ПАРАМЕТР:**\n",
    "\n",
    "В данном случае, для проверки зависимости, воспользуемся **коэффициентом корреляции Пирсона** как оценочным параметром.\n",
    "\n",
    "Определим для каждого признака:\n",
    " - коэффициент корреляции Пирсона относительно оценок;\n",
    " - 95% доверительный интервал для него методом парного bootstrap.\n",
    " \n",
    " \n",
    "**СТАТИСТИЧЕСКАЯ ГИПОТЕЗА:**\n",
    "\n",
    "Протестируем следующую гипотезу: **оценка абонента не зависит от значения признака связи**.\n",
    "\n",
    "Для этого переставим значения признака, но оставим фиксированными значения оценки. Для каждой перестановки вычислим коэффициент корреляции Пирсона и оценим, сколько повторений перестановки имеют коэффициент корреляции Пирсона выше наблюдаемого.\n",
    "Для проверки статистической значимости используем значение p_value.\n"
   ]
  },
  {
   "cell_type": "code",
   "execution_count": 96,
   "metadata": {},
   "outputs": [],
   "source": [
    "# Функция для расчета коэффициента Пирсона\n",
    "\n",
    "def pearson_r(x, y):\n",
    "    \"\"\"Вычисление коэффициента корреляции Пирсона.\"\"\"\n",
    "    corr_mat = np.corrcoef(x, y)\n",
    "    return corr_mat[0,1]\n"
   ]
  },
  {
   "cell_type": "code",
   "execution_count": 97,
   "metadata": {},
   "outputs": [],
   "source": [
    "# Функция для расчета парного bootstrap\n",
    "\n",
    "def draw_bs_pairs(x, y, func, size=1):\n",
    "    \"\"\"Реализация парного bootstrap с одной статистикой.\"\"\"\n",
    "    inds = np.arange(len(x))\n",
    "\n",
    "    # Инициализация реплик\n",
    "    bs_replicates = np.empty(size)\n",
    "\n",
    "    # Реализация реплик\n",
    "    for i in range(size):\n",
    "        bs_inds = np.random.choice(inds, size=len(inds))\n",
    "        bs_x, bs_y = x.reindex(bs_inds), y.reindex(bs_inds)\n",
    "        bs_replicates[i] = pearson_r(bs_x.dropna(), bs_y.dropna())\n",
    "\n",
    "    return bs_replicates"
   ]
  },
  {
   "cell_type": "code",
   "execution_count": 98,
   "metadata": {},
   "outputs": [],
   "source": [
    "# Функция для исключения выбросов с помощью правила трех сигм:\n",
    "\n",
    "def trimming(column):\n",
    "    # Наблюдаемое отклонение от среднего\n",
    "    dev = (column - column.mean()).abs()\n",
    "    # Стандартное отклонение\n",
    "    std = column.std()\n",
    "    # Фильтр исходного набора данных\n",
    "    return column[~(dev>3*std)]"
   ]
  },
  {
   "cell_type": "code",
   "execution_count": 100,
   "metadata": {},
   "outputs": [
    {
     "name": "stdout",
     "output_type": "stream",
     "text": [
      "Total Traffic(MB): \n",
      " Pearson corr_coeff: -0.007, \n",
      " 95% confidence interval: [-0.04113196  0.02859221], \n",
      " p-value = 0.6992\n",
      "\n",
      "Downlink Throughput(Kbps): \n",
      " Pearson corr_coeff: 0.139, \n",
      " 95% confidence interval: [0.10532161 0.17117459], \n",
      " p-value = 0.0\n",
      "\n",
      "Uplink Throughput(Kbps): \n",
      " Pearson corr_coeff: 0.07, \n",
      " 95% confidence interval: [0.03089863 0.10044798], \n",
      " p-value = 0.0\n",
      "\n",
      "Downlink TCP Retransmission Rate(%): \n",
      " Pearson corr_coeff: -0.095, \n",
      " 95% confidence interval: [-0.13166827 -0.05349959], \n",
      " p-value = 0.0\n",
      "\n",
      "Video Streaming Download Throughput(Kbps): \n",
      " Pearson corr_coeff: 0.131, \n",
      " 95% confidence interval: [0.09884263 0.16902282], \n",
      " p-value = 0.0\n",
      "\n",
      "Video Streaming xKB Start Delay(ms): \n",
      " Pearson corr_coeff: -0.14, \n",
      " 95% confidence interval: [-0.17324794 -0.10237967], \n",
      " p-value = 0.0\n",
      "\n",
      "Web Page Download Throughput(Kbps): \n",
      " Pearson corr_coeff: 0.124, \n",
      " 95% confidence interval: [0.08778622 0.16049214], \n",
      " p-value = 0.0\n",
      "\n",
      "Web Average TCP RTT(ms): \n",
      " Pearson corr_coeff: -0.114, \n",
      " 95% confidence interval: [-0.14820096 -0.07514383], \n",
      " p-value = 0.0\n",
      "\n"
     ]
    }
   ],
   "source": [
    "# Перестановочный тест\n",
    "\n",
    "for feature in features:\n",
    "    feature_trimmed = trimming(df_1[feature])\n",
    "    Q1_reindexed = df_1.Q1.reindex(feature_trimmed.index)\n",
    "    \n",
    "    # Вычисление корреляции наблюдаемых данных\n",
    "    r_obs = pearson_r(feature_trimmed, Q1_reindexed)\n",
    "    \n",
    "    # Реализация 1000 bootstrap реплик  pearson_r\n",
    "    bs_replicates = draw_bs_pairs(feature_trimmed, Q1_reindexed, pearson_r, 1000)\n",
    "\n",
    "    # Вычисление 95% доверительных интервалов\n",
    "    conf_intervals = np.percentile(bs_replicates, [2.5, 97.5]) \n",
    "       \n",
    "    # Инициализация реплик\n",
    "    perm_replicates = np.empty(10000)\n",
    "\n",
    "    # Создание реплик\n",
    "    for i in range(10000):\n",
    "        # Перестановка feature_trimmed\n",
    "        feature_permuted = np.random.permutation(feature_trimmed)\n",
    "\n",
    "        # Вычисление корреляции Пирсона\n",
    "        perm_replicates[i] = pearson_r(feature_permuted, Q1_reindexed)\n",
    "      \n",
    "    p = np.sum(abs(perm_replicates) >= abs(r_obs)) / len(perm_replicates) \n",
    "    \n",
    "    print(\"{0}: \\n Pearson corr_coeff: {1}, \\n 95% confidence interval: {2}, \\n p-value = {3}\\n\"\\\n",
    "          .format(feature, r_obs.round(3), conf_intervals, p))"
   ]
  },
  {
   "cell_type": "markdown",
   "metadata": {},
   "source": [
    "### 1.4 Вывод:"
   ]
  },
  {
   "cell_type": "markdown",
   "metadata": {},
   "source": [
    "Итак, для **Total Traffic(MB) гипотеза о независимости подтверждается, оценка не зависит от объема потребляемого трафика передачи данных**. Тогда как **для признаков, определяющих качество связи, гипотеза не подтверждается**, оценочный парметр в пределах 95% доверительного интервала и p-value = 0.0 < 0.05, при этом **коэффициент корелляции довольно низкий**. \n",
    "\n",
    "**ВЫВОД:** прямая зависимость оценки (по шкале 1-10) от качества характеристик связи есть, но довольно слабая, чтобы полагаться на нее."
   ]
  },
  {
   "cell_type": "markdown",
   "metadata": {},
   "source": [
    "## ЧАСТЬ 2. Исследование разницы качества  связи между абонентами с высокими и низкими оценками по опросу Q1"
   ]
  },
  {
   "cell_type": "markdown",
   "metadata": {},
   "source": [
    "### 2.1 Подготовка данных и постановка задачи"
   ]
  },
  {
   "cell_type": "markdown",
   "metadata": {},
   "source": [
    "В предыдущем разделе исследование показало слабую корелляцию между качеством связи и оценкой абонента. Здесь сравним данные  абонентов, высоко оценивших качество связи, со всеми остальными.\n",
    "Для этого в первую группу включаем клиентов с оценками 10 и 9, во вторую - с 8 по 1."
   ]
  },
  {
   "cell_type": "code",
   "execution_count": 7,
   "metadata": {},
   "outputs": [],
   "source": [
    "# Данные, включающие отзывы 10 и 9\n",
    "high_scores = df_1.query('Q1 == [9, 10]')[features]\n",
    "\n",
    "# Данные, включающие отзывы 8-1\n",
    "low_scores = df_1.query('Q1 != [9, 10]')[features]"
   ]
  },
  {
   "cell_type": "markdown",
   "metadata": {},
   "source": [
    "**ЗАДАЧА:** Определить, есть ли существенная разница между качеством связи абонентов с хорошими отзывами и качеством связи абонентов с оценками от 8 и ниже."
   ]
  },
  {
   "cell_type": "markdown",
   "metadata": {},
   "source": [
    "### 2.2 Разведочный анализ (EDA)"
   ]
  },
  {
   "cell_type": "markdown",
   "metadata": {},
   "source": [
    "Посмотрим на сравнение распределений данных в обоих группах по каждому признаку, используя эмпирическую кумулятивную функцию распределения (ECDF), предварительно удалив выбросы."
   ]
  },
  {
   "cell_type": "code",
   "execution_count": 296,
   "metadata": {},
   "outputs": [
    {
     "data": {
      "image/png": "[encoded data removed]",
      "text/plain": [
       "<Figure size 1728x1296 with 8 Axes>"
      ]
     },
     "metadata": {
      "needs_background": "light"
     },
     "output_type": "display_data"
    }
   ],
   "source": [
    "# Визуализация сравнения графиков ECDF\n",
    "\n",
    "fig = plt.figure(figsize=(24,18))\n",
    "fig.suptitle(\"Сравнение ECDF по всем признакам связи \" + str(), fontsize=24)\n",
    "\n",
    "for feature in features:\n",
    "    n = features.index(feature)\n",
    "    ax = fig.add_subplot(2, 4, (n+1))\n",
    "        \n",
    "    # Создание выборок и исключение выбросов\n",
    "    high = trimming(high_scores[feature])\n",
    "    low = trimming(low_scores[feature])\n",
    "        \n",
    "    # Определение координат\n",
    "    x_high, y_high = ECDF(high).__dict__['x'], ECDF(high).__dict__['y']\n",
    "    x_low, y_low = ECDF(low).__dict__['x'], ECDF(low).__dict__['y']\n",
    "\n",
    "    ax = plt.plot(x_high, y_high, marker='.', linestyle='none', color='LightSeaGreen')\n",
    "    ax = plt.plot(x_low, y_low, marker='.', linestyle='none', color='DarkSlateBlue')\n",
    "    ax = plt.xlabel(feature)\n",
    "    ax = plt.ylabel('ECDF')\n",
    "    ax = plt.legend(('High Scores', 'Low Scores'), loc='lower right')\n",
    "        \n",
    "plt.tight_layout(h_pad=5.0)     \n",
    "plt.show() "
   ]
  },
  {
   "cell_type": "markdown",
   "metadata": {},
   "source": [
    "Исключая Total Traffic(MB), по всем остальным характеристикам наблюдается разница в распределении данных."
   ]
  },
  {
   "cell_type": "markdown",
   "metadata": {},
   "source": [
    "### 2.3 Статистический тест"
   ]
  },
  {
   "cell_type": "markdown",
   "metadata": {},
   "source": [
    "**ФОРМУЛИРОВАНИЕ ГИПОТЕЗЫ**\n",
    "\n",
    "Проверим одновременно две гипотезы:\n",
    "\n",
    " 1. Среднее значение признака связи у абонентов с высокой оценкой равно среднему значению признака связи у абонентов с низкой оценкой. **Mean(high) = Mean(low)**. Проверим с помощью доверительных интервалов, используя метод bootstrap.\n",
    " \n",
    " \n",
    " 2. Распределения в обоих случаях идентичны. **F_high(x) = F_low(x)**. Используем перестановочный тест с тестовой статистикой разности средних (**diff_of_means**) для проверки этой гипотезы. \n"
   ]
  },
  {
   "cell_type": "code",
   "execution_count": 8,
   "metadata": {},
   "outputs": [],
   "source": [
    "#Создание функции для bootstrap реплик\n",
    "\n",
    "def draw_bs_reps(data, func, size=1):\n",
    "    \"\"\"Drawing bootstrap replicates.\"\"\"\n",
    "    \n",
    "    bs_replicates = np.empty(size)\n",
    "    for i in range(size):\n",
    "        bs_replicates[i] = func(np.random.choice(data, len(data)))\n",
    "    return bs_replicates"
   ]
  },
  {
   "cell_type": "code",
   "execution_count": 9,
   "metadata": {},
   "outputs": [],
   "source": [
    "# Функция для перестановочного теста для двух выборок\n",
    "\n",
    "def permutation_sample(data1, data2):\n",
    "    \"\"\"Генерация перестановочной выборки из двух.\"\"\"\n",
    "\n",
    "    # Объединение двух выборок\n",
    "    data = np.concatenate((data1, data2))\n",
    "\n",
    "    # Перестановка объединенной выборки\n",
    "    permuted_data = np.random.permutation(data)\n",
    "\n",
    "    # Разделение на две новые выборки\n",
    "    perm_sample_1 = permuted_data[:len(data1)]\n",
    "    perm_sample_2 = permuted_data[len(data1):]\n",
    "\n",
    "    return perm_sample_1, perm_sample_2\n",
    "\n",
    "# Функция для перестановочного теста с использованием функции\n",
    "\n",
    "def draw_perm_reps(data_1, data_2, func, size=1):\n",
    "    \"\"\"Генерация перестановочных реплик \n",
    "    с использованием функции (тестовой статистики).\"\"\"\n",
    "\n",
    "    # Инициализация реплик\n",
    "    perm_replicates = np.empty(size)\n",
    "\n",
    "    for i in range(size):\n",
    "        # Генерация перестановочной выборки\n",
    "        perm_sample_1, perm_sample_2 = permutation_sample(data_1, data_2)\n",
    "\n",
    "        # Вычисление функции\n",
    "        perm_replicates[i] = func(perm_sample_1, perm_sample_2)\n",
    "\n",
    "    return perm_replicates\n",
    "\n",
    "\n",
    "# Функция для определения разницы средних\n",
    "\n",
    "def diff_of_means(data_1, data_2):\n",
    "    \"\"\"Difference in means of two arrays.\"\"\"\n",
    "\n",
    "    # Разница средних data_1, data_2\n",
    "    diff = np.mean(data_1) - np.mean(data_2)\n",
    "\n",
    "    return diff"
   ]
  },
  {
   "cell_type": "markdown",
   "metadata": {},
   "source": [
    "Для наглядности результатов рассчитаем за один цикл по каждой характеристике:\n",
    " - средние значения и их разницу;\n",
    " - доверительные интервалы для них, используя bootstrap;\n",
    " - инициализуем перестановочный тест с diff_of_means;\n",
    " - определим p-value статистической значимости теста."
   ]
  },
  {
   "cell_type": "code",
   "execution_count": 22,
   "metadata": {},
   "outputs": [
    {
     "name": "stdout",
     "output_type": "stream",
     "text": [
      "Total Traffic(MB): \n",
      " mean_diff =  -7.66, (-1.91 %), \n",
      " 95% confidence intervals: [387.72013609 414.14829476], [398.85039543 418.26384839] \n",
      " p-value = 0.3615\n",
      "\n",
      "Downlink Throughput(Kbps): \n",
      " mean_diff =  459.65, (19.98 %), \n",
      " 95% confidence intervals: [2172.10218411 2429.98049346], [1764.5117683  1919.99273849] \n",
      " p-value = 0.0\n",
      "\n",
      "Uplink Throughput(Kbps): \n",
      " mean_diff =  16.29, (9.84 %), \n",
      " 95% confidence intervals: [157.58339539 173.72357199], [144.08611206 154.32338807] \n",
      " p-value = 0.0009\n",
      "\n",
      "Downlink TCP Retransmission Rate(%): \n",
      " mean_diff =  -0.28, (-18.96 %), \n",
      " 95% confidence intervals: [1.41745631 1.55832991], [1.70589921 1.83409939] \n",
      " p-value = 0.0\n",
      "\n",
      "Video Streaming Download Throughput(Kbps): \n",
      " mean_diff =  847.93, (14.54 %), \n",
      " 95% confidence intervals: [5586.89590798 6080.20889178], [4812.65203423 5158.05886051] \n",
      " p-value = 0.0\n",
      "\n",
      "Video Streaming xKB Start Delay(ms): \n",
      " mean_diff =  -318.12, (-18.15 %), \n",
      " 95% confidence intervals: [1702.4880066  1803.69856268], [2018.63466752 2122.19375959] \n",
      " p-value = 0.0\n",
      "\n",
      "Web Page Download Throughput(Kbps): \n",
      " mean_diff =  277.38, (13.27 %), \n",
      " 95% confidence intervals: [2009.6492594  2174.93025775], [1758.51538541 1868.75292629] \n",
      " p-value = 0.0\n",
      "\n",
      "Web Average TCP RTT(ms): \n",
      " mean_diff =  -29.09, (-19.77 %), \n",
      " 95% confidence intervals: [139.8335514  154.92619159], [169.36527207 183.40816222] \n",
      " p-value = 0.0\n",
      "\n"
     ]
    }
   ],
   "source": [
    "# Статистический тест для каждой характеристики\n",
    "\n",
    "for feature in features:\n",
    "    \n",
    "    # Создание выборок и исключение выбросов\n",
    "    high = trimming(high_scores[feature])\n",
    "    low = trimming(low_scores[feature])\n",
    "        \n",
    "    # Вычисление разницы средних значений\n",
    "    mean_diff = abs(np.mean(high)) - abs(np.mean(low))\n",
    "    mean_diff_perc = mean_diff *100 / abs(np.mean(high))\n",
    "        \n",
    "    # Получение bootstrap реплик средних значений\n",
    "    bs_replicates_h = draw_bs_reps(high, np.mean, 10000)\n",
    "    bs_replicates_l = draw_bs_reps(low, np.mean, 10000)\n",
    "    \n",
    "    # Вычисление 95% доверительных интервалов\n",
    "    conf_int_h = np.percentile(bs_replicates_h, [2.5, 97.5])\n",
    "    conf_int_l = np.percentile(bs_replicates_l, [2.5, 97.5])\n",
    "        \n",
    "    # Создание 10,000 перестановочных реплик\n",
    "    perm_replicates = draw_perm_reps(high, low, diff_of_means, size=10000)\n",
    "    \n",
    "    # Расчет коэффициента p-value\n",
    "    p = np.sum(abs(perm_replicates) >= abs(mean_diff)) / len(perm_replicates)  \n",
    "    \n",
    "    print(\"{0}: \\n mean_diff =  {1}, ({2} %), \\n 95% confidence intervals: {3}, {4} \\n p-value = {5}\\n\"\\\n",
    "          .format(feature, round(mean_diff, 2), round(mean_diff_perc, 2), conf_int_h, conf_int_l, p))\n",
    "    "
   ]
  },
  {
   "cell_type": "markdown",
   "metadata": {},
   "source": [
    "### 2.4 Вывод"
   ]
  },
  {
   "cell_type": "markdown",
   "metadata": {},
   "source": [
    "Получается следующее:\n",
    "\n",
    "- **для Total Traffic(MB)** обе гипотезы подтверждаются, средние значения и распределения по выборкам близки. Как и в предыдущем тесте, можно сказать, что **отзыв клиента не зависит от объема потребляемого трафика**.\n",
    "- **для всех остальных признаков гипотезы не подтверждаются**, так как доверительные интервалы не пересекаются, а p-value < 0.05. А это значит, что **с 95% вероятностью  показатели характеристик с высокими и низкими оценками клиентов статистически достоверно различаются**.\n",
    "\n",
    "**ВЫВОД:** Качество связи у абонентов с оценками 9 и 10 по всем показателям (исключая Total Traffic) значимо лучше, чем у остальных. Самая большая разница значений по характеристикам:\n",
    "  - Downlink Throughput(Kbps) **19.98 %**  - средняя скорость «к абоненту»;\n",
    "  - Video Streaming xKB Start Delay(ms) **-18.15 %**  - задержка старта воспроизведения видео;\n",
    "  - Web Average TCP RTT(ms) **-19.77 %** - пинг при просмотре web-страниц.\n"
   ]
  },
  {
   "cell_type": "markdown",
   "metadata": {},
   "source": [
    "## ЧАСТЬ 3. Исследование технических показателей связи у абонентов с наибольшим количеством отрицательных отзывов по Q2"
   ]
  },
  {
   "cell_type": "markdown",
   "metadata": {},
   "source": [
    "### 3.1 Подготовка данных и постановка задачи для исследования"
   ]
  },
  {
   "cell_type": "markdown",
   "metadata": {},
   "source": [
    "Изучение данных по столбцу Q2:"
   ]
  },
  {
   "cell_type": "code",
   "execution_count": 114,
   "metadata": {},
   "outputs": [
    {
     "data": {
      "text/plain": [
       "1315"
      ]
     },
     "execution_count": 114,
     "metadata": {},
     "output_type": "execute_result"
    }
   ],
   "source": [
    "megafon['Q2'].count()"
   ]
  },
  {
   "cell_type": "markdown",
   "metadata": {},
   "source": [
    "Из 3112 опрошенных абонентов лишь 1315 ответили на вопросы Q2. Посмотрим на содержание отзывов:"
   ]
  },
  {
   "cell_type": "code",
   "execution_count": 28,
   "metadata": {},
   "outputs": [
    {
     "data": {
      "text/plain": [
       "Q2\n",
       "0                     1\n",
       "0, 05, 2, 27, 7       1\n",
       "0, 1, 7               1\n",
       "0, 3                  1\n",
       "1                   168\n",
       "1, 2                 22\n",
       "1, 2, 3              44\n",
       "1, 2, 3, 4           18\n",
       "1, 2, 3, 4, 5        27\n",
       "1, 2, 3, 4, 5, 6      2\n",
       "1, 2, 3, 4, 7         1\n",
       "1, 2, 3, 5            4\n",
       "1, 2, 3, 7            1\n",
       "1, 2, 34              1\n",
       "1, 2, 4              11\n",
       "1, 2, 4, 5            4\n",
       "1, 2, 5               3\n",
       "1, 2, 7               1\n",
       "1, 3                121\n",
       "1, 3, 4              76\n",
       "1, 3, 4, 5           40\n",
       "1, 3, 4, 5, 7         2\n",
       "1, 3, 4, 7            2\n",
       "1, 3, 5               3\n",
       "1, 3, 7               2\n",
       "1, 4                 56\n",
       "1, 4, 5              27\n",
       "1, 4, 7               3\n",
       "1, 5                  7\n",
       "10                    1\n",
       "2                    11\n",
       "2, 3                 12\n",
       "2, 3, 4              11\n",
       "2, 3, 4, 5            3\n",
       "2, 4                  4\n",
       "2, 4, 5               2\n",
       "2, 5                  1\n",
       "3                   190\n",
       "3, 4                 85\n",
       "3, 4, 5              45\n",
       "3, 4, 5, 7            3\n",
       "3, 4, 7               2\n",
       "3, 5                  8\n",
       "3, 7                  2\n",
       "4                   170\n",
       "4, 5                 30\n",
       "4, 7                  1\n",
       "5                     9\n",
       "5, 6                  1\n",
       "6                    10\n",
       "7                    64\n",
       "Name: Q2, dtype: int64"
      ]
     },
     "execution_count": 28,
     "metadata": {},
     "output_type": "execute_result"
    }
   ],
   "source": [
    "megafon.groupby('Q2')['Q2'].count()    "
   ]
  },
  {
   "cell_type": "markdown",
   "metadata": {},
   "source": [
    "Отсортируем оценки, оставив лишь отзывы, включающие числа от 1 до 7."
   ]
  },
  {
   "cell_type": "code",
   "execution_count": 8,
   "metadata": {},
   "outputs": [],
   "source": [
    "# Очистка и преобразование данных\n",
    "\n",
    "megafon['Q2']= megafon.Q2.astype(str)\n",
    "megafon['Q2'] = [re.findall(r'\\d', x) if re.match(r'[1-7]{1}', x) else np.nan for x in megafon['Q2']]"
   ]
  },
  {
   "cell_type": "code",
   "execution_count": 128,
   "metadata": {},
   "outputs": [
    {
     "data": {
      "text/plain": [
       "1311"
      ]
     },
     "execution_count": 128,
     "metadata": {},
     "output_type": "execute_result"
    }
   ],
   "source": [
    "megafon['Q2'].count()"
   ]
  },
  {
   "cell_type": "markdown",
   "metadata": {},
   "source": [
    "Сгруппируем данные по оценкам от 1 до 7 и посмотрим, какие из них наиболее часто встречаются в отзывах:"
   ]
  },
  {
   "cell_type": "code",
   "execution_count": 9,
   "metadata": {},
   "outputs": [
    {
     "data": {
      "application/vnd.plotly.v1+json": {
       "config": {
        "plotlyServerURL": "https://plot.ly"
       },
       "data": [
        {
         "labels": [
          "1 Недозвоны, обрывы при звонках",
          "2 Время ожидания гудков при звонках",
          "3 Плохое качество связи в зданиях, торговых центрах и т.п.",
          "4 Медленный мобильный Интернет",
          "5 Медленная загрузка видео",
          "6 Затрудняюсь ответить",
          "7 Свой вариант"
         ],
         "marker": {
          "colors": [
           "Indigo",
           "DarkSlateBlue",
           "Gold",
           "SeaGreen",
           "MediumSeaGreen",
           "YellowGreen",
           "LightSeaGreen"
          ]
         },
         "opacity": 0.75,
         "pull": [
          0,
          0,
          0.2,
          0,
          0,
          0,
          0,
          0
         ],
         "textposition": "inside",
         "texttemplate": " %{percent}",
         "type": "pie",
         "values": [
          647,
          183,
          705,
          626,
          221,
          13,
          84
         ]
        }
       ],
       "layout": {
        "template": {
         "data": {
          "bar": [
           {
            "error_x": {
             "color": "#2a3f5f"
            },
            "error_y": {
             "color": "#2a3f5f"
            },
            "marker": {
             "line": {
              "color": "#E5ECF6",
              "width": 0.5
             },
             "pattern": {
              "fillmode": "overlay",
              "size": 10,
              "solidity": 0.2
             }
            },
            "type": "bar"
           }
          ],
          "barpolar": [
           {
            "marker": {
             "line": {
              "color": "#E5ECF6",
              "width": 0.5
             },
             "pattern": {
              "fillmode": "overlay",
              "size": 10,
              "solidity": 0.2
             }
            },
            "type": "barpolar"
           }
          ],
          "carpet": [
           {
            "aaxis": {
             "endlinecolor": "#2a3f5f",
             "gridcolor": "white",
             "linecolor": "white",
             "minorgridcolor": "white",
             "startlinecolor": "#2a3f5f"
            },
            "baxis": {
             "endlinecolor": "#2a3f5f",
             "gridcolor": "white",
             "linecolor": "white",
             "minorgridcolor": "white",
             "startlinecolor": "#2a3f5f"
            },
            "type": "carpet"
           }
          ],
          "choropleth": [
           {
            "colorbar": {
             "outlinewidth": 0,
             "ticks": ""
            },
            "type": "choropleth"
           }
          ],
          "contour": [
           {
            "colorbar": {
             "outlinewidth": 0,
             "ticks": ""
            },
            "colorscale": [
             [
              0,
              "#0d0887"
             ],
             [
              0.1111111111111111,
              "#46039f"
             ],
             [
              0.2222222222222222,
              "#7201a8"
             ],
             [
              0.3333333333333333,
              "#9c179e"
             ],
             [
              0.4444444444444444,
              "#bd3786"
             ],
             [
              0.5555555555555556,
              "#d8576b"
             ],
             [
              0.6666666666666666,
              "#ed7953"
             ],
             [
              0.7777777777777778,
              "#fb9f3a"
             ],
             [
              0.8888888888888888,
              "#fdca26"
             ],
             [
              1,
              "#f0f921"
             ]
            ],
            "type": "contour"
           }
          ],
          "contourcarpet": [
           {
            "colorbar": {
             "outlinewidth": 0,
             "ticks": ""
            },
            "type": "contourcarpet"
           }
          ],
          "heatmap": [
           {
            "colorbar": {
             "outlinewidth": 0,
             "ticks": ""
            },
            "colorscale": [
             [
              0,
              "#0d0887"
             ],
             [
              0.1111111111111111,
              "#46039f"
             ],
             [
              0.2222222222222222,
              "#7201a8"
             ],
             [
              0.3333333333333333,
              "#9c179e"
             ],
             [
              0.4444444444444444,
              "#bd3786"
             ],
             [
              0.5555555555555556,
              "#d8576b"
             ],
             [
              0.6666666666666666,
              "#ed7953"
             ],
             [
              0.7777777777777778,
              "#fb9f3a"
             ],
             [
              0.8888888888888888,
              "#fdca26"
             ],
             [
              1,
              "#f0f921"
             ]
            ],
            "type": "heatmap"
           }
          ],
          "heatmapgl": [
           {
            "colorbar": {
             "outlinewidth": 0,
             "ticks": ""
            },
            "colorscale": [
             [
              0,
              "#0d0887"
             ],
             [
              0.1111111111111111,
              "#46039f"
             ],
             [
              0.2222222222222222,
              "#7201a8"
             ],
             [
              0.3333333333333333,
              "#9c179e"
             ],
             [
              0.4444444444444444,
              "#bd3786"
             ],
             [
              0.5555555555555556,
              "#d8576b"
             ],
             [
              0.6666666666666666,
              "#ed7953"
             ],
             [
              0.7777777777777778,
              "#fb9f3a"
             ],
             [
              0.8888888888888888,
              "#fdca26"
             ],
             [
              1,
              "#f0f921"
             ]
            ],
            "type": "heatmapgl"
           }
          ],
          "histogram": [
           {
            "marker": {
             "pattern": {
              "fillmode": "overlay",
              "size": 10,
              "solidity": 0.2
             }
            },
            "type": "histogram"
           }
          ],
          "histogram2d": [
           {
            "colorbar": {
             "outlinewidth": 0,
             "ticks": ""
            },
            "colorscale": [
             [
              0,
              "#0d0887"
             ],
             [
              0.1111111111111111,
              "#46039f"
             ],
             [
              0.2222222222222222,
              "#7201a8"
             ],
             [
              0.3333333333333333,
              "#9c179e"
             ],
             [
              0.4444444444444444,
              "#bd3786"
             ],
             [
              0.5555555555555556,
              "#d8576b"
             ],
             [
              0.6666666666666666,
              "#ed7953"
             ],
             [
              0.7777777777777778,
              "#fb9f3a"
             ],
             [
              0.8888888888888888,
              "#fdca26"
             ],
             [
              1,
              "#f0f921"
             ]
            ],
            "type": "histogram2d"
           }
          ],
          "histogram2dcontour": [
           {
            "colorbar": {
             "outlinewidth": 0,
             "ticks": ""
            },
            "colorscale": [
             [
              0,
              "#0d0887"
             ],
             [
              0.1111111111111111,
              "#46039f"
             ],
             [
              0.2222222222222222,
              "#7201a8"
             ],
             [
              0.3333333333333333,
              "#9c179e"
             ],
             [
              0.4444444444444444,
              "#bd3786"
             ],
             [
              0.5555555555555556,
              "#d8576b"
             ],
             [
              0.6666666666666666,
              "#ed7953"
             ],
             [
              0.7777777777777778,
              "#fb9f3a"
             ],
             [
              0.8888888888888888,
              "#fdca26"
             ],
             [
              1,
              "#f0f921"
             ]
            ],
            "type": "histogram2dcontour"
           }
          ],
          "mesh3d": [
           {
            "colorbar": {
             "outlinewidth": 0,
             "ticks": ""
            },
            "type": "mesh3d"
           }
          ],
          "parcoords": [
           {
            "line": {
             "colorbar": {
              "outlinewidth": 0,
              "ticks": ""
             }
            },
            "type": "parcoords"
           }
          ],
          "pie": [
           {
            "automargin": true,
            "type": "pie"
           }
          ],
          "scatter": [
           {
            "marker": {
             "colorbar": {
              "outlinewidth": 0,
              "ticks": ""
             }
            },
            "type": "scatter"
           }
          ],
          "scatter3d": [
           {
            "line": {
             "colorbar": {
              "outlinewidth": 0,
              "ticks": ""
             }
            },
            "marker": {
             "colorbar": {
              "outlinewidth": 0,
              "ticks": ""
             }
            },
            "type": "scatter3d"
           }
          ],
          "scattercarpet": [
           {
            "marker": {
             "colorbar": {
              "outlinewidth": 0,
              "ticks": ""
             }
            },
            "type": "scattercarpet"
           }
          ],
          "scattergeo": [
           {
            "marker": {
             "colorbar": {
              "outlinewidth": 0,
              "ticks": ""
             }
            },
            "type": "scattergeo"
           }
          ],
          "scattergl": [
           {
            "marker": {
             "colorbar": {
              "outlinewidth": 0,
              "ticks": ""
             }
            },
            "type": "scattergl"
           }
          ],
          "scattermapbox": [
           {
            "marker": {
             "colorbar": {
              "outlinewidth": 0,
              "ticks": ""
             }
            },
            "type": "scattermapbox"
           }
          ],
          "scatterpolar": [
           {
            "marker": {
             "colorbar": {
              "outlinewidth": 0,
              "ticks": ""
             }
            },
            "type": "scatterpolar"
           }
          ],
          "scatterpolargl": [
           {
            "marker": {
             "colorbar": {
              "outlinewidth": 0,
              "ticks": ""
             }
            },
            "type": "scatterpolargl"
           }
          ],
          "scatterternary": [
           {
            "marker": {
             "colorbar": {
              "outlinewidth": 0,
              "ticks": ""
             }
            },
            "type": "scatterternary"
           }
          ],
          "surface": [
           {
            "colorbar": {
             "outlinewidth": 0,
             "ticks": ""
            },
            "colorscale": [
             [
              0,
              "#0d0887"
             ],
             [
              0.1111111111111111,
              "#46039f"
             ],
             [
              0.2222222222222222,
              "#7201a8"
             ],
             [
              0.3333333333333333,
              "#9c179e"
             ],
             [
              0.4444444444444444,
              "#bd3786"
             ],
             [
              0.5555555555555556,
              "#d8576b"
             ],
             [
              0.6666666666666666,
              "#ed7953"
             ],
             [
              0.7777777777777778,
              "#fb9f3a"
             ],
             [
              0.8888888888888888,
              "#fdca26"
             ],
             [
              1,
              "#f0f921"
             ]
            ],
            "type": "surface"
           }
          ],
          "table": [
           {
            "cells": {
             "fill": {
              "color": "#EBF0F8"
             },
             "line": {
              "color": "white"
             }
            },
            "header": {
             "fill": {
              "color": "#C8D4E3"
             },
             "line": {
              "color": "white"
             }
            },
            "type": "table"
           }
          ]
         },
         "layout": {
          "annotationdefaults": {
           "arrowcolor": "#2a3f5f",
           "arrowhead": 0,
           "arrowwidth": 1
          },
          "autotypenumbers": "strict",
          "coloraxis": {
           "colorbar": {
            "outlinewidth": 0,
            "ticks": ""
           }
          },
          "colorscale": {
           "diverging": [
            [
             0,
             "#8e0152"
            ],
            [
             0.1,
             "#c51b7d"
            ],
            [
             0.2,
             "#de77ae"
            ],
            [
             0.3,
             "#f1b6da"
            ],
            [
             0.4,
             "#fde0ef"
            ],
            [
             0.5,
             "#f7f7f7"
            ],
            [
             0.6,
             "#e6f5d0"
            ],
            [
             0.7,
             "#b8e186"
            ],
            [
             0.8,
             "#7fbc41"
            ],
            [
             0.9,
             "#4d9221"
            ],
            [
             1,
             "#276419"
            ]
           ],
           "sequential": [
            [
             0,
             "#0d0887"
            ],
            [
             0.1111111111111111,
             "#46039f"
            ],
            [
             0.2222222222222222,
             "#7201a8"
            ],
            [
             0.3333333333333333,
             "#9c179e"
            ],
            [
             0.4444444444444444,
             "#bd3786"
            ],
            [
             0.5555555555555556,
             "#d8576b"
            ],
            [
             0.6666666666666666,
             "#ed7953"
            ],
            [
             0.7777777777777778,
             "#fb9f3a"
            ],
            [
             0.8888888888888888,
             "#fdca26"
            ],
            [
             1,
             "#f0f921"
            ]
           ],
           "sequentialminus": [
            [
             0,
             "#0d0887"
            ],
            [
             0.1111111111111111,
             "#46039f"
            ],
            [
             0.2222222222222222,
             "#7201a8"
            ],
            [
             0.3333333333333333,
             "#9c179e"
            ],
            [
             0.4444444444444444,
             "#bd3786"
            ],
            [
             0.5555555555555556,
             "#d8576b"
            ],
            [
             0.6666666666666666,
             "#ed7953"
            ],
            [
             0.7777777777777778,
             "#fb9f3a"
            ],
            [
             0.8888888888888888,
             "#fdca26"
            ],
            [
             1,
             "#f0f921"
            ]
           ]
          },
          "colorway": [
           "#636efa",
           "#EF553B",
           "#00cc96",
           "#ab63fa",
           "#FFA15A",
           "#19d3f3",
           "#FF6692",
           "#B6E880",
           "#FF97FF",
           "#FECB52"
          ],
          "font": {
           "color": "#2a3f5f"
          },
          "geo": {
           "bgcolor": "white",
           "lakecolor": "white",
           "landcolor": "#E5ECF6",
           "showlakes": true,
           "showland": true,
           "subunitcolor": "white"
          },
          "hoverlabel": {
           "align": "left"
          },
          "hovermode": "closest",
          "mapbox": {
           "style": "light"
          },
          "paper_bgcolor": "white",
          "plot_bgcolor": "#E5ECF6",
          "polar": {
           "angularaxis": {
            "gridcolor": "white",
            "linecolor": "white",
            "ticks": ""
           },
           "bgcolor": "#E5ECF6",
           "radialaxis": {
            "gridcolor": "white",
            "linecolor": "white",
            "ticks": ""
           }
          },
          "scene": {
           "xaxis": {
            "backgroundcolor": "#E5ECF6",
            "gridcolor": "white",
            "gridwidth": 2,
            "linecolor": "white",
            "showbackground": true,
            "ticks": "",
            "zerolinecolor": "white"
           },
           "yaxis": {
            "backgroundcolor": "#E5ECF6",
            "gridcolor": "white",
            "gridwidth": 2,
            "linecolor": "white",
            "showbackground": true,
            "ticks": "",
            "zerolinecolor": "white"
           },
           "zaxis": {
            "backgroundcolor": "#E5ECF6",
            "gridcolor": "white",
            "gridwidth": 2,
            "linecolor": "white",
            "showbackground": true,
            "ticks": "",
            "zerolinecolor": "white"
           }
          },
          "shapedefaults": {
           "line": {
            "color": "#2a3f5f"
           }
          },
          "ternary": {
           "aaxis": {
            "gridcolor": "white",
            "linecolor": "white",
            "ticks": ""
           },
           "baxis": {
            "gridcolor": "white",
            "linecolor": "white",
            "ticks": ""
           },
           "bgcolor": "#E5ECF6",
           "caxis": {
            "gridcolor": "white",
            "linecolor": "white",
            "ticks": ""
           }
          },
          "title": {
           "x": 0.05
          },
          "xaxis": {
           "automargin": true,
           "gridcolor": "white",
           "linecolor": "white",
           "ticks": "",
           "title": {
            "standoff": 15
           },
           "zerolinecolor": "white",
           "zerolinewidth": 2
          },
          "yaxis": {
           "automargin": true,
           "gridcolor": "white",
           "linecolor": "white",
           "ticks": "",
           "title": {
            "standoff": 15
           },
           "zerolinecolor": "white",
           "zerolinewidth": 2
          }
         }
        },
        "title": {
         "text": "Customer reviews Q2 "
        }
       }
      },
      "text/html": [
       "<div>                            <div id=\"81263ee3-34d2-47e2-9930-a2c4ab9f8e77\" class=\"plotly-graph-div\" style=\"height:525px; width:100%;\"></div>            <script type=\"text/javascript\">                require([\"plotly\"], function(Plotly) {                    window.PLOTLYENV=window.PLOTLYENV || {};                                    if (document.getElementById(\"81263ee3-34d2-47e2-9930-a2c4ab9f8e77\")) {                    Plotly.newPlot(                        \"81263ee3-34d2-47e2-9930-a2c4ab9f8e77\",                        [{\"labels\":[\"1 \\u041d\\u0435\\u0434\\u043e\\u0437\\u0432\\u043e\\u043d\\u044b, \\u043e\\u0431\\u0440\\u044b\\u0432\\u044b \\u043f\\u0440\\u0438 \\u0437\\u0432\\u043e\\u043d\\u043a\\u0430\\u0445\",\"2 \\u0412\\u0440\\u0435\\u043c\\u044f \\u043e\\u0436\\u0438\\u0434\\u0430\\u043d\\u0438\\u044f \\u0433\\u0443\\u0434\\u043a\\u043e\\u0432 \\u043f\\u0440\\u0438 \\u0437\\u0432\\u043e\\u043d\\u043a\\u0430\\u0445\",\"3 \\u041f\\u043b\\u043e\\u0445\\u043e\\u0435 \\u043a\\u0430\\u0447\\u0435\\u0441\\u0442\\u0432\\u043e \\u0441\\u0432\\u044f\\u0437\\u0438 \\u0432 \\u0437\\u0434\\u0430\\u043d\\u0438\\u044f\\u0445, \\u0442\\u043e\\u0440\\u0433\\u043e\\u0432\\u044b\\u0445 \\u0446\\u0435\\u043d\\u0442\\u0440\\u0430\\u0445 \\u0438 \\u0442.\\u043f.\",\"4 \\u041c\\u0435\\u0434\\u043b\\u0435\\u043d\\u043d\\u044b\\u0439 \\u043c\\u043e\\u0431\\u0438\\u043b\\u044c\\u043d\\u044b\\u0439 \\u0418\\u043d\\u0442\\u0435\\u0440\\u043d\\u0435\\u0442\",\"5 \\u041c\\u0435\\u0434\\u043b\\u0435\\u043d\\u043d\\u0430\\u044f \\u0437\\u0430\\u0433\\u0440\\u0443\\u0437\\u043a\\u0430 \\u0432\\u0438\\u0434\\u0435\\u043e\",\"6 \\u0417\\u0430\\u0442\\u0440\\u0443\\u0434\\u043d\\u044f\\u044e\\u0441\\u044c \\u043e\\u0442\\u0432\\u0435\\u0442\\u0438\\u0442\\u044c\",\"7 \\u0421\\u0432\\u043e\\u0439 \\u0432\\u0430\\u0440\\u0438\\u0430\\u043d\\u0442\"],\"pull\":[0,0,0.2,0,0,0,0,0],\"textposition\":\"inside\",\"texttemplate\":\" %{percent}\",\"values\":[647,183,705,626,221,13,84],\"type\":\"pie\",\"marker\":{\"colors\":[\"Indigo\",\"DarkSlateBlue\",\"Gold\",\"SeaGreen\",\"MediumSeaGreen\",\"YellowGreen\",\"LightSeaGreen\"]},\"opacity\":0.75}],                        {\"template\":{\"data\":{\"bar\":[{\"error_x\":{\"color\":\"#2a3f5f\"},\"error_y\":{\"color\":\"#2a3f5f\"},\"marker\":{\"line\":{\"color\":\"#E5ECF6\",\"width\":0.5},\"pattern\":{\"fillmode\":\"overlay\",\"size\":10,\"solidity\":0.2}},\"type\":\"bar\"}],\"barpolar\":[{\"marker\":{\"line\":{\"color\":\"#E5ECF6\",\"width\":0.5},\"pattern\":{\"fillmode\":\"overlay\",\"size\":10,\"solidity\":0.2}},\"type\":\"barpolar\"}],\"carpet\":[{\"aaxis\":{\"endlinecolor\":\"#2a3f5f\",\"gridcolor\":\"white\",\"linecolor\":\"white\",\"minorgridcolor\":\"white\",\"startlinecolor\":\"#2a3f5f\"},\"baxis\":{\"endlinecolor\":\"#2a3f5f\",\"gridcolor\":\"white\",\"linecolor\":\"white\",\"minorgridcolor\":\"white\",\"startlinecolor\":\"#2a3f5f\"},\"type\":\"carpet\"}],\"choropleth\":[{\"colorbar\":{\"outlinewidth\":0,\"ticks\":\"\"},\"type\":\"choropleth\"}],\"contour\":[{\"colorbar\":{\"outlinewidth\":0,\"ticks\":\"\"},\"colorscale\":[[0.0,\"#0d0887\"],[0.1111111111111111,\"#46039f\"],[0.2222222222222222,\"#7201a8\"],[0.3333333333333333,\"#9c179e\"],[0.4444444444444444,\"#bd3786\"],[0.5555555555555556,\"#d8576b\"],[0.6666666666666666,\"#ed7953\"],[0.7777777777777778,\"#fb9f3a\"],[0.8888888888888888,\"#fdca26\"],[1.0,\"#f0f921\"]],\"type\":\"contour\"}],\"contourcarpet\":[{\"colorbar\":{\"outlinewidth\":0,\"ticks\":\"\"},\"type\":\"contourcarpet\"}],\"heatmap\":[{\"colorbar\":{\"outlinewidth\":0,\"ticks\":\"\"},\"colorscale\":[[0.0,\"#0d0887\"],[0.1111111111111111,\"#46039f\"],[0.2222222222222222,\"#7201a8\"],[0.3333333333333333,\"#9c179e\"],[0.4444444444444444,\"#bd3786\"],[0.5555555555555556,\"#d8576b\"],[0.6666666666666666,\"#ed7953\"],[0.7777777777777778,\"#fb9f3a\"],[0.8888888888888888,\"#fdca26\"],[1.0,\"#f0f921\"]],\"type\":\"heatmap\"}],\"heatmapgl\":[{\"colorbar\":{\"outlinewidth\":0,\"ticks\":\"\"},\"colorscale\":[[0.0,\"#0d0887\"],[0.1111111111111111,\"#46039f\"],[0.2222222222222222,\"#7201a8\"],[0.3333333333333333,\"#9c179e\"],[0.4444444444444444,\"#bd3786\"],[0.5555555555555556,\"#d8576b\"],[0.6666666666666666,\"#ed7953\"],[0.7777777777777778,\"#fb9f3a\"],[0.8888888888888888,\"#fdca26\"],[1.0,\"#f0f921\"]],\"type\":\"heatmapgl\"}],\"histogram\":[{\"marker\":{\"pattern\":{\"fillmode\":\"overlay\",\"size\":10,\"solidity\":0.2}},\"type\":\"histogram\"}],\"histogram2d\":[{\"colorbar\":{\"outlinewidth\":0,\"ticks\":\"\"},\"colorscale\":[[0.0,\"#0d0887\"],[0.1111111111111111,\"#46039f\"],[0.2222222222222222,\"#7201a8\"],[0.3333333333333333,\"#9c179e\"],[0.4444444444444444,\"#bd3786\"],[0.5555555555555556,\"#d8576b\"],[0.6666666666666666,\"#ed7953\"],[0.7777777777777778,\"#fb9f3a\"],[0.8888888888888888,\"#fdca26\"],[1.0,\"#f0f921\"]],\"type\":\"histogram2d\"}],\"histogram2dcontour\":[{\"colorbar\":{\"outlinewidth\":0,\"ticks\":\"\"},\"colorscale\":[[0.0,\"#0d0887\"],[0.1111111111111111,\"#46039f\"],[0.2222222222222222,\"#7201a8\"],[0.3333333333333333,\"#9c179e\"],[0.4444444444444444,\"#bd3786\"],[0.5555555555555556,\"#d8576b\"],[0.6666666666666666,\"#ed7953\"],[0.7777777777777778,\"#fb9f3a\"],[0.8888888888888888,\"#fdca26\"],[1.0,\"#f0f921\"]],\"type\":\"histogram2dcontour\"}],\"mesh3d\":[{\"colorbar\":{\"outlinewidth\":0,\"ticks\":\"\"},\"type\":\"mesh3d\"}],\"parcoords\":[{\"line\":{\"colorbar\":{\"outlinewidth\":0,\"ticks\":\"\"}},\"type\":\"parcoords\"}],\"pie\":[{\"automargin\":true,\"type\":\"pie\"}],\"scatter\":[{\"marker\":{\"colorbar\":{\"outlinewidth\":0,\"ticks\":\"\"}},\"type\":\"scatter\"}],\"scatter3d\":[{\"line\":{\"colorbar\":{\"outlinewidth\":0,\"ticks\":\"\"}},\"marker\":{\"colorbar\":{\"outlinewidth\":0,\"ticks\":\"\"}},\"type\":\"scatter3d\"}],\"scattercarpet\":[{\"marker\":{\"colorbar\":{\"outlinewidth\":0,\"ticks\":\"\"}},\"type\":\"scattercarpet\"}],\"scattergeo\":[{\"marker\":{\"colorbar\":{\"outlinewidth\":0,\"ticks\":\"\"}},\"type\":\"scattergeo\"}],\"scattergl\":[{\"marker\":{\"colorbar\":{\"outlinewidth\":0,\"ticks\":\"\"}},\"type\":\"scattergl\"}],\"scattermapbox\":[{\"marker\":{\"colorbar\":{\"outlinewidth\":0,\"ticks\":\"\"}},\"type\":\"scattermapbox\"}],\"scatterpolar\":[{\"marker\":{\"colorbar\":{\"outlinewidth\":0,\"ticks\":\"\"}},\"type\":\"scatterpolar\"}],\"scatterpolargl\":[{\"marker\":{\"colorbar\":{\"outlinewidth\":0,\"ticks\":\"\"}},\"type\":\"scatterpolargl\"}],\"scatterternary\":[{\"marker\":{\"colorbar\":{\"outlinewidth\":0,\"ticks\":\"\"}},\"type\":\"scatterternary\"}],\"surface\":[{\"colorbar\":{\"outlinewidth\":0,\"ticks\":\"\"},\"colorscale\":[[0.0,\"#0d0887\"],[0.1111111111111111,\"#46039f\"],[0.2222222222222222,\"#7201a8\"],[0.3333333333333333,\"#9c179e\"],[0.4444444444444444,\"#bd3786\"],[0.5555555555555556,\"#d8576b\"],[0.6666666666666666,\"#ed7953\"],[0.7777777777777778,\"#fb9f3a\"],[0.8888888888888888,\"#fdca26\"],[1.0,\"#f0f921\"]],\"type\":\"surface\"}],\"table\":[{\"cells\":{\"fill\":{\"color\":\"#EBF0F8\"},\"line\":{\"color\":\"white\"}},\"header\":{\"fill\":{\"color\":\"#C8D4E3\"},\"line\":{\"color\":\"white\"}},\"type\":\"table\"}]},\"layout\":{\"annotationdefaults\":{\"arrowcolor\":\"#2a3f5f\",\"arrowhead\":0,\"arrowwidth\":1},\"autotypenumbers\":\"strict\",\"coloraxis\":{\"colorbar\":{\"outlinewidth\":0,\"ticks\":\"\"}},\"colorscale\":{\"diverging\":[[0,\"#8e0152\"],[0.1,\"#c51b7d\"],[0.2,\"#de77ae\"],[0.3,\"#f1b6da\"],[0.4,\"#fde0ef\"],[0.5,\"#f7f7f7\"],[0.6,\"#e6f5d0\"],[0.7,\"#b8e186\"],[0.8,\"#7fbc41\"],[0.9,\"#4d9221\"],[1,\"#276419\"]],\"sequential\":[[0.0,\"#0d0887\"],[0.1111111111111111,\"#46039f\"],[0.2222222222222222,\"#7201a8\"],[0.3333333333333333,\"#9c179e\"],[0.4444444444444444,\"#bd3786\"],[0.5555555555555556,\"#d8576b\"],[0.6666666666666666,\"#ed7953\"],[0.7777777777777778,\"#fb9f3a\"],[0.8888888888888888,\"#fdca26\"],[1.0,\"#f0f921\"]],\"sequentialminus\":[[0.0,\"#0d0887\"],[0.1111111111111111,\"#46039f\"],[0.2222222222222222,\"#7201a8\"],[0.3333333333333333,\"#9c179e\"],[0.4444444444444444,\"#bd3786\"],[0.5555555555555556,\"#d8576b\"],[0.6666666666666666,\"#ed7953\"],[0.7777777777777778,\"#fb9f3a\"],[0.8888888888888888,\"#fdca26\"],[1.0,\"#f0f921\"]]},\"colorway\":[\"#636efa\",\"#EF553B\",\"#00cc96\",\"#ab63fa\",\"#FFA15A\",\"#19d3f3\",\"#FF6692\",\"#B6E880\",\"#FF97FF\",\"#FECB52\"],\"font\":{\"color\":\"#2a3f5f\"},\"geo\":{\"bgcolor\":\"white\",\"lakecolor\":\"white\",\"landcolor\":\"#E5ECF6\",\"showlakes\":true,\"showland\":true,\"subunitcolor\":\"white\"},\"hoverlabel\":{\"align\":\"left\"},\"hovermode\":\"closest\",\"mapbox\":{\"style\":\"light\"},\"paper_bgcolor\":\"white\",\"plot_bgcolor\":\"#E5ECF6\",\"polar\":{\"angularaxis\":{\"gridcolor\":\"white\",\"linecolor\":\"white\",\"ticks\":\"\"},\"bgcolor\":\"#E5ECF6\",\"radialaxis\":{\"gridcolor\":\"white\",\"linecolor\":\"white\",\"ticks\":\"\"}},\"scene\":{\"xaxis\":{\"backgroundcolor\":\"#E5ECF6\",\"gridcolor\":\"white\",\"gridwidth\":2,\"linecolor\":\"white\",\"showbackground\":true,\"ticks\":\"\",\"zerolinecolor\":\"white\"},\"yaxis\":{\"backgroundcolor\":\"#E5ECF6\",\"gridcolor\":\"white\",\"gridwidth\":2,\"linecolor\":\"white\",\"showbackground\":true,\"ticks\":\"\",\"zerolinecolor\":\"white\"},\"zaxis\":{\"backgroundcolor\":\"#E5ECF6\",\"gridcolor\":\"white\",\"gridwidth\":2,\"linecolor\":\"white\",\"showbackground\":true,\"ticks\":\"\",\"zerolinecolor\":\"white\"}},\"shapedefaults\":{\"line\":{\"color\":\"#2a3f5f\"}},\"ternary\":{\"aaxis\":{\"gridcolor\":\"white\",\"linecolor\":\"white\",\"ticks\":\"\"},\"baxis\":{\"gridcolor\":\"white\",\"linecolor\":\"white\",\"ticks\":\"\"},\"bgcolor\":\"#E5ECF6\",\"caxis\":{\"gridcolor\":\"white\",\"linecolor\":\"white\",\"ticks\":\"\"}},\"title\":{\"x\":0.05},\"xaxis\":{\"automargin\":true,\"gridcolor\":\"white\",\"linecolor\":\"white\",\"ticks\":\"\",\"title\":{\"standoff\":15},\"zerolinecolor\":\"white\",\"zerolinewidth\":2},\"yaxis\":{\"automargin\":true,\"gridcolor\":\"white\",\"linecolor\":\"white\",\"ticks\":\"\",\"title\":{\"standoff\":15},\"zerolinecolor\":\"white\",\"zerolinewidth\":2}}},\"title\":{\"text\":\"Customer reviews Q2 \"}},                        {\"responsive\": true}                    ).then(function(){\n",
       "                            \n",
       "var gd = document.getElementById('81263ee3-34d2-47e2-9930-a2c4ab9f8e77');\n",
       "var x = new MutationObserver(function (mutations, observer) {{\n",
       "        var display = window.getComputedStyle(gd).display;\n",
       "        if (!display || display === 'none') {{\n",
       "            console.log([gd, 'removed!']);\n",
       "            Plotly.purge(gd);\n",
       "            observer.disconnect();\n",
       "        }}\n",
       "}});\n",
       "\n",
       "// Listen for the removal of the full notebook cells\n",
       "var notebookContainer = gd.closest('#notebook-container');\n",
       "if (notebookContainer) {{\n",
       "    x.observe(notebookContainer, {childList: true});\n",
       "}}\n",
       "\n",
       "// Listen for the clearing of the current output cell\n",
       "var outputEl = gd.closest('.output');\n",
       "if (outputEl) {{\n",
       "    x.observe(outputEl, {childList: true});\n",
       "}}\n",
       "\n",
       "                        })                };                });            </script>        </div>"
      ]
     },
     "metadata": {},
     "output_type": "display_data"
    }
   ],
   "source": [
    "# Данные для визуализации \n",
    "Q2_pie = megafon.copy().explode('Q2').groupby('Q2')['Q2'].count()[1:]\n",
    "\n",
    "# Визуализация процентного соотношения отзывов о качестве связи\n",
    "reviews=[\"1 Недозвоны, обрывы при звонках\", \n",
    "          \"2 Время ожидания гудков при звонках\", \n",
    "          \"3 Плохое качество связи в зданиях, торговых центрах и т.п.\",\n",
    "          \"4 Медленный мобильный Интернет\",\n",
    "          \"5 Медленная загрузка видео\",\n",
    "          \"6 Затрудняюсь ответить\",\n",
    "          \"7 Свой вариант\"]\n",
    "\n",
    "colors = ['Indigo', 'DarkSlateBlue', 'Gold',\n",
    "          'SeaGreen', 'MediumSeaGreen', \n",
    "          'YellowGreen', 'LightSeaGreen']\n",
    "\n",
    "pie_2 = go.Figure(go.Pie(\n",
    "    values = Q2_pie,\n",
    "    labels = reviews,\n",
    "    pull=[0, 0, 0.2, 0, 0, 0, 0, 0],\n",
    "    texttemplate = \" %{percent}\",\n",
    "    textposition = \"inside\"\n",
    "))\n",
    "pie_2.update_traces(opacity=0.75,\n",
    "                    marker=dict(colors=colors))\n",
    "pie_2.update_layout(title = 'Customer reviews Q2 ') \n",
    "pie_2.show()"
   ]
  },
  {
   "cell_type": "markdown",
   "metadata": {},
   "source": [
    "Рассматривая ответы 1315 пользователей, ответивших на Q2, заметно, что наибольшее количество отзывов содержат оценки:\n",
    "\n",
    " - 3 Плохое качество связи в зданиях, торговых центрах и т.п (28.4%),\n",
    " - 1 Недозвоны, обрывы при звонках (26.1%),\n",
    " - 4 Медленный мобильный Интернет (25.3%).\n",
    " "
   ]
  },
  {
   "cell_type": "markdown",
   "metadata": {},
   "source": [
    "**ПОСТАНОВКА ЗАДАЧИ:**\n",
    "\n",
    "Выявить, действительно ли, качество связи хуже у потребителей с оценками 3,1,4?\n",
    "И, если да, то из-за каких признаков.\n",
    "Чтобы сформулировать статистическую гипотезу для исследования, проведем разведочный анализ имеющихся данных и определим оценочные параметры.\n"
   ]
  },
  {
   "cell_type": "markdown",
   "metadata": {},
   "source": [
    "### 3.2 Разведочный анализ (EDA)"
   ]
  },
  {
   "cell_type": "markdown",
   "metadata": {},
   "source": [
    "Для разведочного анализа используем эмпирическую кумулятивную функцию распределения (ECDF). Сравним распределение данных по каждому признаку для каждого из выбранных для рассмотрения отзыва с данными, не включающими исследуемый отзыв."
   ]
  },
  {
   "cell_type": "code",
   "execution_count": 80,
   "metadata": {},
   "outputs": [],
   "source": [
    "from statsmodels.distributions.empirical_distribution import ECDF\n",
    "\n",
    "data_Q2 = megafon.copy()\n",
    "\n",
    "#Создание функции для визуализации распределения\n",
    "\n",
    "def EDA(data, score_review, new_col_name):\n",
    "    \"\"\"Создает новый столбец с исследуемой характеристикой, \n",
    "       делит выборку на две, визуализирует ECDF\"\"\"\n",
    "    \n",
    "    # Создание нового столбца\n",
    "    data.loc[:, new_col_name] = [1 if str(score_review) in x else 0 for x in data['Q2']]\n",
    "    \n",
    "    # Разделение выборки на две\n",
    "    data_yes = data[data[new_col_name] == 1][features]\n",
    "    data_no = data[data[new_col_name] == 0][features]\n",
    "    \n",
    "    # Визуализация ECDF\n",
    "    fig = plt.figure(figsize=(22,16))\n",
    "    fig.suptitle(\"Сравнение ECDF по всем признакам связи, Review:  \" + str(score_review), fontsize=24)\n",
    "    \n",
    "    for feature in features:\n",
    "        n = features.index(feature)\n",
    "        ax = fig.add_subplot(2, 4, (n+1))\n",
    "\n",
    "        # Исключение выбросов\n",
    "        feature_yes = trimming(data_yes[feature]) \n",
    "        feature_no = trimming(data_no[feature]) \n",
    "        \n",
    "        # Определение координат\n",
    "        x_yes, y_yes = ECDF(feature_yes).__dict__['x'], ECDF(feature_yes).__dict__['y']\n",
    "        x_no, y_no = ECDF(feature_no).__dict__['x'], ECDF(feature_no).__dict__['y']\n",
    "\n",
    "        ax = plt.plot(x_yes, y_yes, marker='.', linestyle='none', color='YellowGreen')\n",
    "        ax = plt.plot(x_no, y_no, marker='.', linestyle='none', color='DarkSlateBlue')\n",
    "        ax = plt.xlabel(feature)\n",
    "        ax = plt.ylabel('ECDF')\n",
    "        ax = plt.legend(('Review: ' + str(score_review), 'Other'), loc='lower right')\n",
    "        \n",
    "    plt.tight_layout(h_pad=5.0)     \n",
    "    plt.show() "
   ]
  },
  {
   "cell_type": "code",
   "execution_count": 81,
   "metadata": {},
   "outputs": [
    {
     "data": {
      "image/png": "[encoded data removed]",
      "text/plain": [
       "<Figure size 1584x1152 with 8 Axes>"
      ]
     },
     "metadata": {
      "needs_background": "light"
     },
     "output_type": "display_data"
    }
   ],
   "source": [
    "# Визуализация сравнения распределений при отзыве 3\n",
    "EDA(data_Q2, score_review=3, new_col_name='is_r3')"
   ]
  },
  {
   "cell_type": "markdown",
   "metadata": {},
   "source": [
    "### 3.3 Статистический тест отзыва (3-Плохое качество связи в зданиях, торговых центрах и т.п (28.4%)"
   ]
  },
  {
   "cell_type": "markdown",
   "metadata": {},
   "source": [
    "**ОЦЕНОЧНЫЙ ПАРАМЕТР:**\n",
    "\n",
    "Можно заметить, что распределения по многим признакам различаются, соответственно, выбираем значения средних (Mean) как оценочный параметр, исключая выбросы из данных.\n",
    "\n",
    "Определим для каждого признака:\n",
    "- разницу средних значений;\n",
    "- 95% доверительный интервал для нее (с использованием метода bootstrap).\n",
    "\n",
    "**СТАТИСТИЧЕСКАЯ ГИПОТЕЗА:**\n",
    "\n",
    "Протестируем следующую гипотезу: среднее значение признака связи у абонентов с отзывом (3) равно среднему значению признака связи у абонентов с отзывом, не включающим (3). \n",
    "**Mean(review:3) = Mean(other)**\n",
    "\n",
    "Чтобы выполнить эту проверку гипотезы, нам нужно сдвинуть два набора данных так, чтобы они имели одинаковое среднее значение, а затем использовать bootstrap-выборку для вычисления разницы средних значений.\n",
    "Для проверки статистической значимости используем значение p_value.\n",
    "\n",
    "Все необходимые вычисления включены в функцию hypothesis_test()."
   ]
  },
  {
   "cell_type": "code",
   "execution_count": 29,
   "metadata": {},
   "outputs": [],
   "source": [
    "def hypothesis_test(data, features, review_col_name):\n",
    "    \n",
    "    for feature in features:\n",
    "        # Разделение выборки\n",
    "        data_yes = data[data[review_col_name] == 1][[feature]].apply(trimming)\n",
    "        data_no = data[data[review_col_name] == 0][[feature]].apply(trimming)\n",
    "        \n",
    "        # Вычисление разницы средних значений\n",
    "        mean_diff = np.mean(data_yes) - np.mean(data_no)\n",
    "        mean_diff_perc = mean_diff * 100 / np.mean(data_yes)\n",
    "        \n",
    "        # Получение bootstrap реплик средних значений\n",
    "        bs_replicates_y = draw_bs_reps(data_yes.iloc[:,0], np.mean, 10000)\n",
    "        bs_replicates_n = draw_bs_reps(data_no.iloc[:,0], np.mean, 10000)\n",
    "        \n",
    "        # Вычисление разницы двух выборок\n",
    "        bs_diff_repl = bs_replicates_y - bs_replicates_n\n",
    "        \n",
    "        # Вычисление 95% доверительных интервалов\n",
    "        conf_int = np.percentile(bs_diff_repl, [2.5, 97.5])\n",
    "    \n",
    "        # Вычисление среднего значения объединенной выборки\n",
    "        combined_mean = np.mean(np.concatenate((data_yes, data_no)))\n",
    "    \n",
    "        # Сдвиг в выборках с заменой средних значений на combined_mean\n",
    "        data_yes_shifted = data_yes - np.mean(data_yes) + combined_mean\n",
    "        data_no_shifted = data_no - np.mean(data_no) + combined_mean\n",
    "    \n",
    "        # Получение bootstrap реплик \"сдвинутых\" выборок                                         \n",
    "        bs_replicates_yes = draw_bs_reps(data_yes_shifted.iloc[:,0], np.mean, size=10000)\n",
    "        bs_replicates_no = draw_bs_reps(data_no_shifted.iloc[:,0], np.mean, size=10000)\n",
    "    \n",
    "        # Вычисление разницы bootstrap реплик\n",
    "        bs_diff_replicates = bs_replicates_yes - bs_replicates_no\n",
    "    \n",
    "        # Расчет коэффициента p-value\n",
    "        p = np.sum(abs(bs_diff_replicates) >= abs(mean_diff[0])) / len(bs_diff_replicates)\n",
    "        \n",
    "        print(\"{0}: \\n mean_diff = {1},  ({2} %), \\n 95% confidence interval: {3}, \\n p-value = {4}\\n\"\\\n",
    "              .format(feature, round(mean_diff[0], 2), round(mean_diff_perc[0], 2), conf_int, p))\n",
    "    "
   ]
  },
  {
   "cell_type": "markdown",
   "metadata": {},
   "source": [
    "Вычисляем для каждого признака разницу средних значений, 95% доверительный интервал для нее и значение p-value:"
   ]
  },
  {
   "cell_type": "code",
   "execution_count": 30,
   "metadata": {},
   "outputs": [
    {
     "name": "stdout",
     "output_type": "stream",
     "text": [
      "Total Traffic(MB): \n",
      " mean_diff = -1.98,  (-0.49 %), \n",
      " 95% confidence interval: [-19.59234807  16.2855994 ], \n",
      " p-value = 0.8364\n",
      "\n",
      "Downlink Throughput(Kbps): \n",
      " mean_diff = -274.15,  (-15.37 %), \n",
      " 95% confidence interval: [-422.0210277  -126.20617721], \n",
      " p-value = 0.0004\n",
      "\n",
      "Uplink Throughput(Kbps): \n",
      " mean_diff = -12.89,  (-8.9 %), \n",
      " 95% confidence interval: [-22.28199955  -3.38721482], \n",
      " p-value = 0.0071\n",
      "\n",
      "Downlink TCP Retransmission Rate(%): \n",
      " mean_diff = 0.21,  (11.45 %), \n",
      " 95% confidence interval: [0.0924391  0.32903465], \n",
      " p-value = 0.0008\n",
      "\n",
      "Video Streaming Download Throughput(Kbps): \n",
      " mean_diff = -590.01,  (-12.16 %), \n",
      " 95% confidence interval: [-916.25626247 -264.48172702], \n",
      " p-value = 0.0002\n",
      "\n",
      "Video Streaming xKB Start Delay(ms): \n",
      " mean_diff = 140.18,  (6.79 %), \n",
      " 95% confidence interval: [ 48.36296223 233.36653729], \n",
      " p-value = 0.0024\n",
      "\n",
      "Web Page Download Throughput(Kbps): \n",
      " mean_diff = -99.98,  (-5.46 %), \n",
      " 95% confidence interval: [-208.36113288   11.91666012], \n",
      " p-value = 0.0755\n",
      "\n",
      "Web Average TCP RTT(ms): \n",
      " mean_diff = 5.06,  (3.0 %), \n",
      " 95% confidence interval: [-7.15284622 17.50249736], \n",
      " p-value = 0.4286\n",
      "\n"
     ]
    }
   ],
   "source": [
    "hypothesis_test(data_Q2, features=features, review_col_name='is_r3')"
   ]
  },
  {
   "cell_type": "markdown",
   "metadata": {},
   "source": [
    "### 3.4 Статистический тест отзыва (1 - Недозвоны, обрывы при звонках (26.1%)"
   ]
  },
  {
   "cell_type": "code",
   "execution_count": 82,
   "metadata": {},
   "outputs": [
    {
     "data": {
      "image/png": "[encoded data removed]",
      "text/plain": [
       "<Figure size 1584x1152 with 8 Axes>"
      ]
     },
     "metadata": {
      "needs_background": "light"
     },
     "output_type": "display_data"
    }
   ],
   "source": [
    "# Визуализация сравнения распределений\n",
    "EDA(data_Q2, score_review=1, new_col_name='is_r1')"
   ]
  },
  {
   "cell_type": "code",
   "execution_count": 46,
   "metadata": {},
   "outputs": [
    {
     "name": "stdout",
     "output_type": "stream",
     "text": [
      "Total Traffic(MB): \n",
      " mean_diff = -7.3,  (-1.82 %), \n",
      " 95% confidence interval: [-26.14946447  11.93522426], \n",
      " p-value = 0.4472\n",
      "\n",
      "Downlink Throughput(Kbps): \n",
      " mean_diff = -118.05,  (-6.19 %), \n",
      " 95% confidence interval: [-275.59699689   46.3529703 ], \n",
      " p-value = 0.1465\n",
      "\n",
      "Uplink Throughput(Kbps): \n",
      " mean_diff = 2.0,  (1.28 %), \n",
      " 95% confidence interval: [-8.21501092 12.40339768], \n",
      " p-value = 0.7066\n",
      "\n",
      "Downlink TCP Retransmission Rate(%): \n",
      " mean_diff = 0.14,  (7.96 %), \n",
      " 95% confidence interval: [0.02063152 0.26589948], \n",
      " p-value = 0.0257\n",
      "\n",
      "Video Streaming Download Throughput(Kbps): \n",
      " mean_diff = -101.44,  (-1.94 %), \n",
      " 95% confidence interval: [-471.14923816  267.98161228], \n",
      " p-value = 0.5846\n",
      "\n",
      "Video Streaming xKB Start Delay(ms): \n",
      " mean_diff = 240.31,  (11.22 %), \n",
      " 95% confidence interval: [133.26085681 350.34820986], \n",
      " p-value = 0.0\n",
      "\n",
      "Web Page Download Throughput(Kbps): \n",
      " mean_diff = 21.06,  (1.09 %), \n",
      " 95% confidence interval: [-105.15335475  149.87866389], \n",
      " p-value = 0.7468\n",
      "\n",
      "Web Average TCP RTT(ms): \n",
      " mean_diff = 10.39,  (6.0 %), \n",
      " 95% confidence interval: [-2.56329831 23.55582475], \n",
      " p-value = 0.1172\n",
      "\n"
     ]
    }
   ],
   "source": [
    "# Статистический тест\n",
    "hypothesis_test(data_Q2, features=features, review_col_name='is_r1')"
   ]
  },
  {
   "cell_type": "markdown",
   "metadata": {},
   "source": [
    "### 3.5 Статистический тест отзыва (4 - Медленный мобильный Интернет (25.3%)"
   ]
  },
  {
   "cell_type": "code",
   "execution_count": 83,
   "metadata": {},
   "outputs": [
    {
     "data": {
      "image/png": "[encoded data removed]",
      "text/plain": [
       "<Figure size 1584x1152 with 8 Axes>"
      ]
     },
     "metadata": {
      "needs_background": "light"
     },
     "output_type": "display_data"
    }
   ],
   "source": [
    "# Визуализация сравнения распределений\n",
    "EDA(data_Q2, score_review=4, new_col_name='is_r4')"
   ]
  },
  {
   "cell_type": "code",
   "execution_count": 48,
   "metadata": {},
   "outputs": [
    {
     "name": "stdout",
     "output_type": "stream",
     "text": [
      "Total Traffic(MB): \n",
      " mean_diff = 10.8,  (2.6 %), \n",
      " 95% confidence interval: [-8.21630877 30.09217723], \n",
      " p-value = 0.2652\n",
      "\n",
      "Downlink Throughput(Kbps): \n",
      " mean_diff = -546.38,  (-34.91 %), \n",
      " 95% confidence interval: [-689.11975341 -403.46670392], \n",
      " p-value = 0.0\n",
      "\n",
      "Uplink Throughput(Kbps): \n",
      " mean_diff = -21.94,  (-16.0 %), \n",
      " 95% confidence interval: [-31.76383612 -12.03135551], \n",
      " p-value = 0.0\n",
      "\n",
      "Downlink TCP Retransmission Rate(%): \n",
      " mean_diff = 0.37,  (18.92 %), \n",
      " 95% confidence interval: [0.23751829 0.50978875], \n",
      " p-value = 0.0\n",
      "\n",
      "Video Streaming Download Throughput(Kbps): \n",
      " mean_diff = -1485.92,  (-36.11 %), \n",
      " 95% confidence interval: [-1788.35640358 -1175.22089981], \n",
      " p-value = 0.0\n",
      "\n",
      "Video Streaming xKB Start Delay(ms): \n",
      " mean_diff = 400.2,  (17.65 %), \n",
      " 95% confidence interval: [291.1527312  511.42332504], \n",
      " p-value = 0.0\n",
      "\n",
      "Web Page Download Throughput(Kbps): \n",
      " mean_diff = -378.68,  (-23.48 %), \n",
      " 95% confidence interval: [-489.67696883 -267.1106369 ], \n",
      " p-value = 0.0\n",
      "\n",
      "Web Average TCP RTT(ms): \n",
      " mean_diff = 46.94,  (23.19 %), \n",
      " 95% confidence interval: [30.97044031 63.19872615], \n",
      " p-value = 0.0\n",
      "\n"
     ]
    }
   ],
   "source": [
    "# Статистический тест\n",
    "hypothesis_test(data_Q2, features=features, review_col_name='is_r4')"
   ]
  },
  {
   "cell_type": "markdown",
   "metadata": {},
   "source": [
    "### 3.6 Вывод"
   ]
  },
  {
   "cell_type": "markdown",
   "metadata": {},
   "source": [
    "Итак, на основе полученных данных, можно предположить, что:\n",
    "- средние значения показателей связи у абонентов с отзывом (**3- Плохое качество связи в зданиях, торговых центрах и т.п (28.4%)**) отличаются в худшую сторону. Но с 95% вероятностью статистически достоверно различаются следующие параметры:\n",
    "\n",
    "  **Downlink Throughput(Kbps):           mean_diff = -274.15**, p-value = 0.0003 < 0.05.\n",
    "\n",
    "  **Uplink Throughput(Kbps):             mean_diff = -12.89**,  p-value = 0.0075 < 0.05.\n",
    "\n",
    "  **Downlink TCP Retransmission Rate(%): mean_diff = 0.21**,    p-value = 0.0005 < 0.05.\n",
    "\n",
    "  **Video Streaming xKB Start Delay(ms): mean_diff = 140.18**,  p-value = 0.0031 < 0.05.\n",
    "\n",
    "   Гипотеза о равенстве средних для этих показателей не подтверждается."
   ]
  },
  {
   "cell_type": "markdown",
   "metadata": {},
   "source": [
    " - в случае **(1 - Недозвоны, обрывы при звонках (26.1%)**, гипотеза о равенстве средних не подтверждается, и разница с 95% вероятностью статистически значима  лишь для параметра:\n",
    "\n",
    "   **Video Streaming xKB Start Delay(ms):    mean_diff =  240.31**,   p-value = 0.0001 < 0.05."
   ]
  },
  {
   "cell_type": "markdown",
   "metadata": {},
   "source": [
    "- исключая Total Traffic(MB), **все показатели качества связи абонентов с отзывом (4 - Медленный мобильный Интернет (25.3%) с 95% вероятностью статистически достоверно различаются**, так как значение p-value = 0."
   ]
  },
  {
   "cell_type": "markdown",
   "metadata": {},
   "source": [
    "## Итоги исследования:"
   ]
  },
  {
   "cell_type": "markdown",
   "metadata": {},
   "source": [
    "1. Исходные данные для рассмотрения включают в себя информацию о **3112** пользователях компании «Мегафон». Из них **3075** отзывов годны для исследования ответа на вопрос Q1 и  **1310** - для Q2.\n",
    "\n",
    "\n",
    "2. Основываясь на результатах, очевидно, что объем потребляемого трафика передачи данных **Total Traffic** не влияет на оценку абонента.\n",
    "\n",
    "\n",
    "3. Отзывы потребителей по Q1, включающие оценки от 1 до 10, хоть и **имеют прямую зависимость с качественными характеристиками связи, все же коэффициент корреляции довольно низкий**, максимальные значения:\n",
    " - **Downlink Throughput(Kbps): 0.139**\n",
    " - **Video Streaming xKB Start Delay(ms) 0.14**\n",
    "\n",
    "\n",
    "4. А при разделениии данных (опрос Q1) на две выборки - с высокими (9, 10) и низкими (8-1) оценками, **разница в качестве связи с 95% вероятностью статистически подтверждается по всем показателям**. Наибольшая разница значений по характеристикам:\n",
    " - **Downlink Throughput(Kbps) 19.98 %**\n",
    " - **Video Streaming xKB Start Delay(ms) -18.15 %**\n",
    " - **Web Average TCP RTT(ms) -19.77 %**\n",
    " \n",
    " \n",
    "5. При исследовании второго этапа опроса - **Q2** - выделяются три группы наиболее частых оценок:\n",
    " - 3 Плохое качество связи в зданиях, торговых центрах и т.п (28.4%),\n",
    " - 1 Недозвоны, обрывы при звонках (26.1%),\n",
    " - 4 Медленный мобильный Интернет (25.3%).\n",
    " \n",
    " \n",
    "6. Анализ отзыва **(3 Плохое качество связи в зданиях, торговых центрах и т.п)** показал статистически достоверную разницу по параметрам:\n",
    " - **Downlink Throughput(Kbps) -15.37 %**\n",
    " - **Uplink Throughput(Kbps)  -8.9 %**\n",
    " - **Downlink TCP Retransmission Rate(%) 11.45 %**\n",
    " - **Video Streaming Download Throughput(Kbps) -12.16 %**\n",
    " - **Video Streaming xKB Start Delay(ms) 6.79 %**\n",
    " \n",
    " \n",
    "7. Статистический тест ответов **(1 Недозвоны, обрывы при звонках)** не подтвердил статической значимости разницы качества характеристик, кроме одной:\n",
    " - **Video Streaming xKB Start Delay(ms) 11.22 %**\n",
    " \n",
    " \n",
    "8. И наиболее очевидную разницу качества технических показателей выявил анализ ответов (**4 Медленный мобильный Интернет**). **Все характеристики с 95% вероятностью статистически различаются**:\n",
    "\n",
    " - Downlink Throughput(Kbps) -34.91 %\n",
    " - Uplink Throughput(Kbps)-16.0 %\n",
    " - Downlink TCP Retransmission Rate(%) 18.92 %\n",
    " - Video Streaming Download Throughput(Kbps) -36.11 %\n",
    " - Video Streaming xKB Start Delay(ms) 17.65 %\n",
    " - Web Page Download Throughput(Kbps)-23.48 %\n",
    " - Web Average TCP RTT(ms) 23.19 %\n",
    " \n",
    " \n",
    "9. **В целом**, по результатам всех разделов данного исследования наиболее выделяются две характеристики, разница по которым статистически значима:\n",
    " - **Downlink Throughput(Kbps)** - средняя скорость «к абоненту»;\n",
    " - **Video Streaming xKB Start Delay(ms)** - задержка старта воспроизведения видео.\n",
    " \n",
    "Высока вероятность того, что именно эти технические показатели качества связи сильнее всего влияют на удовлетворённость клиентов.\n",
    "\n",
    "Также, можно рекомендовать компании уделить особо внимание абонентам с отзывом, включающим в себя **\"4 Медленный мобильный Интернет\"**, так как статистически значимая разница почти по всем признакам качества связи здесь довольно высока."
   ]
  },
  {
   "cell_type": "code",
   "execution_count": null,
   "metadata": {},
   "outputs": [],
   "source": []
  }
 ],
 "metadata": {
  "colab": {
   "collapsed_sections": [],
   "name": "Постановка задачи.ipynb",
   "provenance": []
  },
  "kernelspec": {
   "display_name": "Python 3",
   "language": "python",
   "name": "python3"
  },
  "language_info": {
   "codemirror_mode": {
    "name": "ipython",
    "version": 3
   },
   "file_extension": ".py",
   "mimetype": "text/x-python",
   "name": "python",
   "nbconvert_exporter": "python",
   "pygments_lexer": "ipython3",
   "version": "3.7.9"
  }
 },
 "nbformat": 4,
 "nbformat_minor": 1
}
